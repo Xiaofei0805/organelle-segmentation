{
 "cells": [
  {
   "cell_type": "code",
   "execution_count": null,
   "id": "95b58f11",
   "metadata": {},
   "outputs": [
    {
     "name": "stderr",
     "output_type": "stream",
     "text": [
      "Loading manifest: 100%|██████████| 484465/484465 [00:07<00:00, 63.3k/s]\n",
      "100%|██████████| 1.69G/1.69G [03:27<00:00, 8.14MB/s] \n"
     ]
    },
    {
     "data": {
      "text/plain": [
       "PackageEntry('file:///D:/Projects/004_Cellpose/Allen_Cell_and_Structure_Segmenter/test_images/metadata.csv')"
      ]
     },
     "execution_count": 3,
     "metadata": {},
     "output_type": "execute_result"
    }
   ],
   "source": [
    "import quilt3 as q3\n",
    "q3.Package.browse(\n",
    "    \"aics/hipsc_single_cell_image_dataset\",\n",
    "    registry=\"s3://allencell\"\n",
    ")[\"metadata.csv\"].fetch(\"test_images/metadata.csv\")"
   ]
  }
 ],
 "metadata": {
  "kernelspec": {
   "display_name": "quilt-env",
   "language": "python",
   "name": "python3"
  },
  "language_info": {
   "codemirror_mode": {
    "name": "ipython",
    "version": 3
   },
   "file_extension": ".py",
   "mimetype": "text/x-python",
   "name": "python",
   "nbconvert_exporter": "python",
   "pygments_lexer": "ipython3",
   "version": "3.10.18"
  }
 },
 "nbformat": 4,
 "nbformat_minor": 5
}
