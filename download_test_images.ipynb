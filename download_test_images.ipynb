{
 "cells": [
  {
   "cell_type": "code",
   "execution_count": 8,
   "id": "95b58f11",
   "metadata": {},
   "outputs": [],
   "source": [
    "save_path = \"./test_images\"\n",
    "metadata_save_name = save_path + \"/metadata.csv\"\n",
    "img_save_path = save_path + \"/structure_examples\""
   ]
  },
  {
   "cell_type": "code",
   "execution_count": 9,
   "id": "02d17933",
   "metadata": {},
   "outputs": [
    {
     "name": "stderr",
     "output_type": "stream",
     "text": [
      "Loading manifest: 100%|██████████| 484465/484465 [00:07<00:00, 63.0k/s]\n",
      "100%|██████████| 1.69G/1.69G [01:34<00:00, 17.8MB/s] \n"
     ]
    },
    {
     "data": {
      "text/plain": [
       "PackageEntry('file:///D:/Projects/004_Cellpose/Allen_Cell_and_Structure_Segmenter/test_images/metadata.csv')"
      ]
     },
     "execution_count": 9,
     "metadata": {},
     "output_type": "execute_result"
    }
   ],
   "source": [
    "import quilt3 as q3\n",
    "q3.Package.browse(\n",
    "    \"aics/hipsc_single_cell_image_dataset\",\n",
    "    registry=\"s3://allencell\"\n",
    ")[\"metadata.csv\"].fetch(metadata_save_name)"
   ]
  },
  {
   "cell_type": "code",
   "execution_count": 11,
   "id": "fe7572f1",
   "metadata": {},
   "outputs": [
    {
     "name": "stderr",
     "output_type": "stream",
     "text": [
      "C:\\Users\\Xiaofei\\AppData\\Local\\Temp\\ipykernel_45860\\3351000164.py:19: DtypeWarning: Columns (33) have mixed types. Specify dtype option on import or set low_memory=False.\n",
      "  df = pd.read_csv(metadata_save_name)\n",
      "Loading manifest: 100%|██████████| 484465/484465 [00:07<00:00, 65.0k/s]\n"
     ]
    },
    {
     "name": "stdout",
     "output_type": "stream",
     "text": [
      "\n",
      "▶ 正在处理结构: AAVS1\n"
     ]
    },
    {
     "name": "stderr",
     "output_type": "stream",
     "text": [
      "100%|██████████| 423M/423M [00:48<00:00, 8.76MB/s]  \n",
      "100%|██████████| 615k/615k [00:09<00:00, 63.9kB/s]\n",
      "c:\\Users\\Xiaofei\\.conda\\envs\\quilt-env\\lib\\site-packages\\pydantic\\main.py:253: UserWarning: Casting invalid PixelsID '0' to 'Pixels:0'\n",
      "  validated_self = self.__pydantic_validator__.validate_python(data, self_instance=self)\n",
      "c:\\Users\\Xiaofei\\.conda\\envs\\quilt-env\\lib\\site-packages\\pydantic\\main.py:253: UserWarning: Casting invalid ImageID '0' to 'Image:0'\n",
      "  validated_self = self.__pydantic_validator__.validate_python(data, self_instance=self)\n"
     ]
    },
    {
     "name": "stdout",
     "output_type": "stream",
     "text": [
      "✅ 成功保存: test_images\\structure_examples\\AAVS1_raw.tif 和 test_images\\structure_examples\\AAVS1_seg.tif\n",
      "\n",
      "▶ 正在处理结构: ACTB\n"
     ]
    },
    {
     "name": "stderr",
     "output_type": "stream",
     "text": [
      "100%|██████████| 441M/441M [00:44<00:00, 9.85MB/s]  \n",
      "100%|██████████| 469k/469k [00:09<00:00, 49.9kB/s]\n",
      "c:\\Users\\Xiaofei\\.conda\\envs\\quilt-env\\lib\\site-packages\\pydantic\\main.py:253: UserWarning: Casting invalid PixelsID '0' to 'Pixels:0'\n",
      "  validated_self = self.__pydantic_validator__.validate_python(data, self_instance=self)\n",
      "c:\\Users\\Xiaofei\\.conda\\envs\\quilt-env\\lib\\site-packages\\pydantic\\main.py:253: UserWarning: Casting invalid ImageID '0' to 'Image:0'\n",
      "  validated_self = self.__pydantic_validator__.validate_python(data, self_instance=self)\n"
     ]
    },
    {
     "name": "stdout",
     "output_type": "stream",
     "text": [
      "✅ 成功保存: test_images\\structure_examples\\ACTB_raw.tif 和 test_images\\structure_examples\\ACTB_seg.tif\n",
      "\n",
      "▶ 正在处理结构: ACTN1\n"
     ]
    },
    {
     "name": "stderr",
     "output_type": "stream",
     "text": [
      "100%|██████████| 379M/379M [00:34<00:00, 11.1MB/s]  \n",
      "100%|██████████| 425k/425k [00:07<00:00, 53.2kB/s]\n",
      "c:\\Users\\Xiaofei\\.conda\\envs\\quilt-env\\lib\\site-packages\\pydantic\\main.py:253: UserWarning: Casting invalid PixelsID '0' to 'Pixels:0'\n",
      "  validated_self = self.__pydantic_validator__.validate_python(data, self_instance=self)\n",
      "c:\\Users\\Xiaofei\\.conda\\envs\\quilt-env\\lib\\site-packages\\pydantic\\main.py:253: UserWarning: Casting invalid ImageID '0' to 'Image:0'\n",
      "  validated_self = self.__pydantic_validator__.validate_python(data, self_instance=self)\n"
     ]
    },
    {
     "name": "stdout",
     "output_type": "stream",
     "text": [
      "✅ 成功保存: test_images\\structure_examples\\ACTN1_raw.tif 和 test_images\\structure_examples\\ACTN1_seg.tif\n",
      "\n",
      "▶ 正在处理结构: ATP2A2\n"
     ]
    },
    {
     "name": "stderr",
     "output_type": "stream",
     "text": [
      "100%|██████████| 179M/179M [00:30<00:00, 5.88MB/s]  \n",
      "100%|██████████| 730k/730k [00:10<00:00, 72.4kB/s]\n",
      "c:\\Users\\Xiaofei\\.conda\\envs\\quilt-env\\lib\\site-packages\\pydantic\\main.py:253: UserWarning: Casting invalid PixelsID '0' to 'Pixels:0'\n",
      "  validated_self = self.__pydantic_validator__.validate_python(data, self_instance=self)\n",
      "c:\\Users\\Xiaofei\\.conda\\envs\\quilt-env\\lib\\site-packages\\pydantic\\main.py:253: UserWarning: Casting invalid ImageID '0' to 'Image:0'\n",
      "  validated_self = self.__pydantic_validator__.validate_python(data, self_instance=self)\n"
     ]
    },
    {
     "name": "stdout",
     "output_type": "stream",
     "text": [
      "✅ 成功保存: test_images\\structure_examples\\ATP2A2_raw.tif 和 test_images\\structure_examples\\ATP2A2_seg.tif\n",
      "\n",
      "▶ 正在处理结构: CETN2\n"
     ]
    },
    {
     "name": "stderr",
     "output_type": "stream",
     "text": [
      "100%|██████████| 349M/349M [00:35<00:00, 9.76MB/s]  \n",
      "100%|██████████| 83.9k/83.9k [00:03<00:00, 26.5kB/s]\n",
      "c:\\Users\\Xiaofei\\.conda\\envs\\quilt-env\\lib\\site-packages\\pydantic\\main.py:253: UserWarning: Casting invalid PixelsID '0' to 'Pixels:0'\n",
      "  validated_self = self.__pydantic_validator__.validate_python(data, self_instance=self)\n",
      "c:\\Users\\Xiaofei\\.conda\\envs\\quilt-env\\lib\\site-packages\\pydantic\\main.py:253: UserWarning: Casting invalid ImageID '0' to 'Image:0'\n",
      "  validated_self = self.__pydantic_validator__.validate_python(data, self_instance=self)\n"
     ]
    },
    {
     "name": "stdout",
     "output_type": "stream",
     "text": [
      "✅ 成功保存: test_images\\structure_examples\\CETN2_raw.tif 和 test_images\\structure_examples\\CETN2_seg.tif\n",
      "\n",
      "▶ 正在处理结构: CTNNB1\n"
     ]
    },
    {
     "name": "stderr",
     "output_type": "stream",
     "text": [
      "100%|██████████| 368M/368M [00:40<00:00, 9.12MB/s]  \n",
      "100%|██████████| 499k/499k [00:10<00:00, 49.6kB/s]\n",
      "c:\\Users\\Xiaofei\\.conda\\envs\\quilt-env\\lib\\site-packages\\pydantic\\main.py:253: UserWarning: Casting invalid PixelsID '0' to 'Pixels:0'\n",
      "  validated_self = self.__pydantic_validator__.validate_python(data, self_instance=self)\n",
      "c:\\Users\\Xiaofei\\.conda\\envs\\quilt-env\\lib\\site-packages\\pydantic\\main.py:253: UserWarning: Casting invalid ImageID '0' to 'Image:0'\n",
      "  validated_self = self.__pydantic_validator__.validate_python(data, self_instance=self)\n"
     ]
    },
    {
     "name": "stdout",
     "output_type": "stream",
     "text": [
      "✅ 成功保存: test_images\\structure_examples\\CTNNB1_raw.tif 和 test_images\\structure_examples\\CTNNB1_seg.tif\n",
      "\n",
      "▶ 正在处理结构: DSP\n"
     ]
    },
    {
     "name": "stderr",
     "output_type": "stream",
     "text": [
      "100%|██████████| 383M/383M [00:45<00:00, 8.43MB/s]  \n",
      "100%|██████████| 93.0k/93.0k [00:04<00:00, 23.1kB/s]\n",
      "c:\\Users\\Xiaofei\\.conda\\envs\\quilt-env\\lib\\site-packages\\pydantic\\main.py:253: UserWarning: Casting invalid PixelsID '0' to 'Pixels:0'\n",
      "  validated_self = self.__pydantic_validator__.validate_python(data, self_instance=self)\n",
      "c:\\Users\\Xiaofei\\.conda\\envs\\quilt-env\\lib\\site-packages\\pydantic\\main.py:253: UserWarning: Casting invalid ImageID '0' to 'Image:0'\n",
      "  validated_self = self.__pydantic_validator__.validate_python(data, self_instance=self)\n"
     ]
    },
    {
     "name": "stdout",
     "output_type": "stream",
     "text": [
      "✅ 成功保存: test_images\\structure_examples\\DSP_raw.tif 和 test_images\\structure_examples\\DSP_seg.tif\n",
      "\n",
      "▶ 正在处理结构: FBL\n"
     ]
    },
    {
     "name": "stderr",
     "output_type": "stream",
     "text": [
      "100%|██████████| 384M/384M [00:38<00:00, 9.95MB/s]  \n",
      "100%|██████████| 174k/174k [00:03<00:00, 51.8kB/s]\n",
      "c:\\Users\\Xiaofei\\.conda\\envs\\quilt-env\\lib\\site-packages\\pydantic\\main.py:253: UserWarning: Casting invalid PixelsID '0' to 'Pixels:0'\n",
      "  validated_self = self.__pydantic_validator__.validate_python(data, self_instance=self)\n",
      "c:\\Users\\Xiaofei\\.conda\\envs\\quilt-env\\lib\\site-packages\\pydantic\\main.py:253: UserWarning: Casting invalid ImageID '0' to 'Image:0'\n",
      "  validated_self = self.__pydantic_validator__.validate_python(data, self_instance=self)\n"
     ]
    },
    {
     "name": "stdout",
     "output_type": "stream",
     "text": [
      "✅ 成功保存: test_images\\structure_examples\\FBL_raw.tif 和 test_images\\structure_examples\\FBL_seg.tif\n",
      "\n",
      "▶ 正在处理结构: GJA1\n"
     ]
    },
    {
     "name": "stderr",
     "output_type": "stream",
     "text": [
      "100%|██████████| 348M/348M [00:40<00:00, 8.61MB/s]  \n",
      "100%|██████████| 123k/123k [00:03<00:00, 35.7kB/s]\n",
      "c:\\Users\\Xiaofei\\.conda\\envs\\quilt-env\\lib\\site-packages\\pydantic\\main.py:253: UserWarning: Casting invalid PixelsID '0' to 'Pixels:0'\n",
      "  validated_self = self.__pydantic_validator__.validate_python(data, self_instance=self)\n",
      "c:\\Users\\Xiaofei\\.conda\\envs\\quilt-env\\lib\\site-packages\\pydantic\\main.py:253: UserWarning: Casting invalid ImageID '0' to 'Image:0'\n",
      "  validated_self = self.__pydantic_validator__.validate_python(data, self_instance=self)\n"
     ]
    },
    {
     "name": "stdout",
     "output_type": "stream",
     "text": [
      "✅ 成功保存: test_images\\structure_examples\\GJA1_raw.tif 和 test_images\\structure_examples\\GJA1_seg.tif\n",
      "\n",
      "▶ 正在处理结构: HIST1H2BJ\n"
     ]
    },
    {
     "name": "stderr",
     "output_type": "stream",
     "text": [
      "100%|██████████| 190M/190M [00:25<00:00, 7.45MB/s]  \n",
      "100%|██████████| 479k/479k [00:05<00:00, 93.3kB/s]\n",
      "c:\\Users\\Xiaofei\\.conda\\envs\\quilt-env\\lib\\site-packages\\pydantic\\main.py:253: UserWarning: Casting invalid PixelsID '0' to 'Pixels:0'\n",
      "  validated_self = self.__pydantic_validator__.validate_python(data, self_instance=self)\n",
      "c:\\Users\\Xiaofei\\.conda\\envs\\quilt-env\\lib\\site-packages\\pydantic\\main.py:253: UserWarning: Casting invalid ImageID '0' to 'Image:0'\n",
      "  validated_self = self.__pydantic_validator__.validate_python(data, self_instance=self)\n"
     ]
    },
    {
     "name": "stdout",
     "output_type": "stream",
     "text": [
      "✅ 成功保存: test_images\\structure_examples\\HIST1H2BJ_raw.tif 和 test_images\\structure_examples\\HIST1H2BJ_seg.tif\n",
      "\n",
      "▶ 正在处理结构: LAMP1\n"
     ]
    },
    {
     "name": "stderr",
     "output_type": "stream",
     "text": [
      "100%|██████████| 385M/385M [00:21<00:00, 18.0MB/s]  \n",
      "100%|██████████| 409k/409k [00:03<00:00, 108kB/s] \n",
      "c:\\Users\\Xiaofei\\.conda\\envs\\quilt-env\\lib\\site-packages\\pydantic\\main.py:253: UserWarning: Casting invalid PixelsID '0' to 'Pixels:0'\n",
      "  validated_self = self.__pydantic_validator__.validate_python(data, self_instance=self)\n",
      "c:\\Users\\Xiaofei\\.conda\\envs\\quilt-env\\lib\\site-packages\\pydantic\\main.py:253: UserWarning: Casting invalid ImageID '0' to 'Image:0'\n",
      "  validated_self = self.__pydantic_validator__.validate_python(data, self_instance=self)\n"
     ]
    },
    {
     "name": "stdout",
     "output_type": "stream",
     "text": [
      "✅ 成功保存: test_images\\structure_examples\\LAMP1_raw.tif 和 test_images\\structure_examples\\LAMP1_seg.tif\n",
      "\n",
      "▶ 正在处理结构: LMNB1\n"
     ]
    },
    {
     "name": "stderr",
     "output_type": "stream",
     "text": [
      "100%|██████████| 413M/413M [00:20<00:00, 20.3MB/s]  \n",
      "100%|██████████| 309k/309k [00:03<00:00, 87.2kB/s]\n",
      "c:\\Users\\Xiaofei\\.conda\\envs\\quilt-env\\lib\\site-packages\\pydantic\\main.py:253: UserWarning: Casting invalid PixelsID '0' to 'Pixels:0'\n",
      "  validated_self = self.__pydantic_validator__.validate_python(data, self_instance=self)\n",
      "c:\\Users\\Xiaofei\\.conda\\envs\\quilt-env\\lib\\site-packages\\pydantic\\main.py:253: UserWarning: Casting invalid ImageID '0' to 'Image:0'\n",
      "  validated_self = self.__pydantic_validator__.validate_python(data, self_instance=self)\n"
     ]
    },
    {
     "name": "stdout",
     "output_type": "stream",
     "text": [
      "✅ 成功保存: test_images\\structure_examples\\LMNB1_raw.tif 和 test_images\\structure_examples\\LMNB1_seg.tif\n",
      "\n",
      "▶ 正在处理结构: MYH10\n"
     ]
    },
    {
     "name": "stderr",
     "output_type": "stream",
     "text": [
      "100%|██████████| 359M/359M [00:22<00:00, 15.8MB/s]  \n",
      "100%|██████████| 370k/370k [00:03<00:00, 95.3kB/s]\n",
      "c:\\Users\\Xiaofei\\.conda\\envs\\quilt-env\\lib\\site-packages\\pydantic\\main.py:253: UserWarning: Casting invalid PixelsID '0' to 'Pixels:0'\n",
      "  validated_self = self.__pydantic_validator__.validate_python(data, self_instance=self)\n",
      "c:\\Users\\Xiaofei\\.conda\\envs\\quilt-env\\lib\\site-packages\\pydantic\\main.py:253: UserWarning: Casting invalid ImageID '0' to 'Image:0'\n",
      "  validated_self = self.__pydantic_validator__.validate_python(data, self_instance=self)\n"
     ]
    },
    {
     "name": "stdout",
     "output_type": "stream",
     "text": [
      "✅ 成功保存: test_images\\structure_examples\\MYH10_raw.tif 和 test_images\\structure_examples\\MYH10_seg.tif\n",
      "\n",
      "▶ 正在处理结构: NPM1\n"
     ]
    },
    {
     "name": "stderr",
     "output_type": "stream",
     "text": [
      "100%|██████████| 394M/394M [00:21<00:00, 18.4MB/s]  \n",
      "100%|██████████| 192k/192k [00:04<00:00, 39.4kB/s]\n",
      "c:\\Users\\Xiaofei\\.conda\\envs\\quilt-env\\lib\\site-packages\\pydantic\\main.py:253: UserWarning: Casting invalid PixelsID '0' to 'Pixels:0'\n",
      "  validated_self = self.__pydantic_validator__.validate_python(data, self_instance=self)\n",
      "c:\\Users\\Xiaofei\\.conda\\envs\\quilt-env\\lib\\site-packages\\pydantic\\main.py:253: UserWarning: Casting invalid ImageID '0' to 'Image:0'\n",
      "  validated_self = self.__pydantic_validator__.validate_python(data, self_instance=self)\n"
     ]
    },
    {
     "name": "stdout",
     "output_type": "stream",
     "text": [
      "✅ 成功保存: test_images\\structure_examples\\NPM1_raw.tif 和 test_images\\structure_examples\\NPM1_seg.tif\n",
      "\n",
      "▶ 正在处理结构: NUP153\n"
     ]
    },
    {
     "name": "stderr",
     "output_type": "stream",
     "text": [
      "100%|██████████| 175M/175M [00:13<00:00, 13.3MB/s] \n",
      "100%|██████████| 519k/519k [00:04<00:00, 117kB/s] \n",
      "c:\\Users\\Xiaofei\\.conda\\envs\\quilt-env\\lib\\site-packages\\pydantic\\main.py:253: UserWarning: Casting invalid PixelsID '0' to 'Pixels:0'\n",
      "  validated_self = self.__pydantic_validator__.validate_python(data, self_instance=self)\n",
      "c:\\Users\\Xiaofei\\.conda\\envs\\quilt-env\\lib\\site-packages\\pydantic\\main.py:253: UserWarning: Casting invalid ImageID '0' to 'Image:0'\n",
      "  validated_self = self.__pydantic_validator__.validate_python(data, self_instance=self)\n"
     ]
    },
    {
     "name": "stdout",
     "output_type": "stream",
     "text": [
      "✅ 成功保存: test_images\\structure_examples\\NUP153_raw.tif 和 test_images\\structure_examples\\NUP153_seg.tif\n",
      "\n",
      "▶ 正在处理结构: PXN\n"
     ]
    },
    {
     "name": "stderr",
     "output_type": "stream",
     "text": [
      "100%|██████████| 350M/350M [00:18<00:00, 19.1MB/s]  \n",
      "100%|██████████| 94.0k/94.0k [00:03<00:00, 27.2kB/s]\n",
      "c:\\Users\\Xiaofei\\.conda\\envs\\quilt-env\\lib\\site-packages\\pydantic\\main.py:253: UserWarning: Casting invalid PixelsID '0' to 'Pixels:0'\n",
      "  validated_self = self.__pydantic_validator__.validate_python(data, self_instance=self)\n",
      "c:\\Users\\Xiaofei\\.conda\\envs\\quilt-env\\lib\\site-packages\\pydantic\\main.py:253: UserWarning: Casting invalid ImageID '0' to 'Image:0'\n",
      "  validated_self = self.__pydantic_validator__.validate_python(data, self_instance=self)\n"
     ]
    },
    {
     "name": "stdout",
     "output_type": "stream",
     "text": [
      "✅ 成功保存: test_images\\structure_examples\\PXN_raw.tif 和 test_images\\structure_examples\\PXN_seg.tif\n",
      "\n",
      "▶ 正在处理结构: RAB5A\n"
     ]
    },
    {
     "name": "stderr",
     "output_type": "stream",
     "text": [
      "100%|██████████| 198M/198M [00:13<00:00, 14.5MB/s] \n",
      "100%|██████████| 147k/147k [00:04<00:00, 34.5kB/s]\n",
      "c:\\Users\\Xiaofei\\.conda\\envs\\quilt-env\\lib\\site-packages\\pydantic\\main.py:253: UserWarning: Casting invalid PixelsID '0' to 'Pixels:0'\n",
      "  validated_self = self.__pydantic_validator__.validate_python(data, self_instance=self)\n",
      "c:\\Users\\Xiaofei\\.conda\\envs\\quilt-env\\lib\\site-packages\\pydantic\\main.py:253: UserWarning: Casting invalid ImageID '0' to 'Image:0'\n",
      "  validated_self = self.__pydantic_validator__.validate_python(data, self_instance=self)\n"
     ]
    },
    {
     "name": "stdout",
     "output_type": "stream",
     "text": [
      "✅ 成功保存: test_images\\structure_examples\\RAB5A_raw.tif 和 test_images\\structure_examples\\RAB5A_seg.tif\n",
      "\n",
      "▶ 正在处理结构: SEC61B\n"
     ]
    },
    {
     "name": "stderr",
     "output_type": "stream",
     "text": [
      "100%|██████████| 414M/414M [00:22<00:00, 18.3MB/s]  \n",
      "100%|██████████| 1.46M/1.46M [00:05<00:00, 276kB/s]\n",
      "c:\\Users\\Xiaofei\\.conda\\envs\\quilt-env\\lib\\site-packages\\pydantic\\main.py:253: UserWarning: Casting invalid PixelsID '0' to 'Pixels:0'\n",
      "  validated_self = self.__pydantic_validator__.validate_python(data, self_instance=self)\n",
      "c:\\Users\\Xiaofei\\.conda\\envs\\quilt-env\\lib\\site-packages\\pydantic\\main.py:253: UserWarning: Casting invalid ImageID '0' to 'Image:0'\n",
      "  validated_self = self.__pydantic_validator__.validate_python(data, self_instance=self)\n"
     ]
    },
    {
     "name": "stdout",
     "output_type": "stream",
     "text": [
      "✅ 成功保存: test_images\\structure_examples\\SEC61B_raw.tif 和 test_images\\structure_examples\\SEC61B_seg.tif\n",
      "\n",
      "▶ 正在处理结构: SLC25A17\n"
     ]
    },
    {
     "name": "stderr",
     "output_type": "stream",
     "text": [
      "100%|██████████| 182M/182M [00:14<00:00, 13.0MB/s] \n",
      "100%|██████████| 129k/129k [00:06<00:00, 18.8kB/s]\n",
      "c:\\Users\\Xiaofei\\.conda\\envs\\quilt-env\\lib\\site-packages\\pydantic\\main.py:253: UserWarning: Casting invalid PixelsID '0' to 'Pixels:0'\n",
      "  validated_self = self.__pydantic_validator__.validate_python(data, self_instance=self)\n",
      "c:\\Users\\Xiaofei\\.conda\\envs\\quilt-env\\lib\\site-packages\\pydantic\\main.py:253: UserWarning: Casting invalid ImageID '0' to 'Image:0'\n",
      "  validated_self = self.__pydantic_validator__.validate_python(data, self_instance=self)\n"
     ]
    },
    {
     "name": "stdout",
     "output_type": "stream",
     "text": [
      "✅ 成功保存: test_images\\structure_examples\\SLC25A17_raw.tif 和 test_images\\structure_examples\\SLC25A17_seg.tif\n",
      "\n",
      "▶ 正在处理结构: SMC1A\n"
     ]
    },
    {
     "name": "stderr",
     "output_type": "stream",
     "text": [
      "100%|██████████| 211M/211M [00:12<00:00, 16.3MB/s]  \n",
      "100%|██████████| 126k/126k [00:04<00:00, 29.6kB/s]\n",
      "c:\\Users\\Xiaofei\\.conda\\envs\\quilt-env\\lib\\site-packages\\pydantic\\main.py:253: UserWarning: Casting invalid PixelsID '0' to 'Pixels:0'\n",
      "  validated_self = self.__pydantic_validator__.validate_python(data, self_instance=self)\n",
      "c:\\Users\\Xiaofei\\.conda\\envs\\quilt-env\\lib\\site-packages\\pydantic\\main.py:253: UserWarning: Casting invalid ImageID '0' to 'Image:0'\n",
      "  validated_self = self.__pydantic_validator__.validate_python(data, self_instance=self)\n"
     ]
    },
    {
     "name": "stdout",
     "output_type": "stream",
     "text": [
      "✅ 成功保存: test_images\\structure_examples\\SMC1A_raw.tif 和 test_images\\structure_examples\\SMC1A_seg.tif\n",
      "\n",
      "▶ 正在处理结构: SON\n"
     ]
    },
    {
     "name": "stderr",
     "output_type": "stream",
     "text": [
      "100%|██████████| 220M/220M [00:15<00:00, 14.7MB/s]  \n",
      "100%|██████████| 179k/179k [00:04<00:00, 42.0kB/s]\n",
      "c:\\Users\\Xiaofei\\.conda\\envs\\quilt-env\\lib\\site-packages\\pydantic\\main.py:253: UserWarning: Casting invalid PixelsID '0' to 'Pixels:0'\n",
      "  validated_self = self.__pydantic_validator__.validate_python(data, self_instance=self)\n",
      "c:\\Users\\Xiaofei\\.conda\\envs\\quilt-env\\lib\\site-packages\\pydantic\\main.py:253: UserWarning: Casting invalid ImageID '0' to 'Image:0'\n",
      "  validated_self = self.__pydantic_validator__.validate_python(data, self_instance=self)\n"
     ]
    },
    {
     "name": "stdout",
     "output_type": "stream",
     "text": [
      "✅ 成功保存: test_images\\structure_examples\\SON_raw.tif 和 test_images\\structure_examples\\SON_seg.tif\n",
      "\n",
      "▶ 正在处理结构: ST6GAL1\n"
     ]
    },
    {
     "name": "stderr",
     "output_type": "stream",
     "text": [
      "100%|██████████| 357M/357M [00:19<00:00, 17.9MB/s]  \n",
      "100%|██████████| 170k/170k [00:03<00:00, 46.5kB/s]\n",
      "c:\\Users\\Xiaofei\\.conda\\envs\\quilt-env\\lib\\site-packages\\pydantic\\main.py:253: UserWarning: Casting invalid PixelsID '0' to 'Pixels:0'\n",
      "  validated_self = self.__pydantic_validator__.validate_python(data, self_instance=self)\n",
      "c:\\Users\\Xiaofei\\.conda\\envs\\quilt-env\\lib\\site-packages\\pydantic\\main.py:253: UserWarning: Casting invalid ImageID '0' to 'Image:0'\n",
      "  validated_self = self.__pydantic_validator__.validate_python(data, self_instance=self)\n"
     ]
    },
    {
     "name": "stdout",
     "output_type": "stream",
     "text": [
      "✅ 成功保存: test_images\\structure_examples\\ST6GAL1_raw.tif 和 test_images\\structure_examples\\ST6GAL1_seg.tif\n",
      "\n",
      "▶ 正在处理结构: TJP1\n"
     ]
    },
    {
     "name": "stderr",
     "output_type": "stream",
     "text": [
      "100%|██████████| 327M/327M [00:18<00:00, 17.9MB/s]  \n",
      "100%|██████████| 124k/124k [00:04<00:00, 28.4kB/s]\n",
      "c:\\Users\\Xiaofei\\.conda\\envs\\quilt-env\\lib\\site-packages\\pydantic\\main.py:253: UserWarning: Casting invalid PixelsID '0' to 'Pixels:0'\n",
      "  validated_self = self.__pydantic_validator__.validate_python(data, self_instance=self)\n",
      "c:\\Users\\Xiaofei\\.conda\\envs\\quilt-env\\lib\\site-packages\\pydantic\\main.py:253: UserWarning: Casting invalid ImageID '0' to 'Image:0'\n",
      "  validated_self = self.__pydantic_validator__.validate_python(data, self_instance=self)\n"
     ]
    },
    {
     "name": "stdout",
     "output_type": "stream",
     "text": [
      "✅ 成功保存: test_images\\structure_examples\\TJP1_raw.tif 和 test_images\\structure_examples\\TJP1_seg.tif\n",
      "\n",
      "▶ 正在处理结构: TOMM20\n"
     ]
    },
    {
     "name": "stderr",
     "output_type": "stream",
     "text": [
      "100%|██████████| 372M/372M [00:21<00:00, 17.4MB/s]  \n",
      "100%|██████████| 599k/599k [00:04<00:00, 127kB/s] \n",
      "c:\\Users\\Xiaofei\\.conda\\envs\\quilt-env\\lib\\site-packages\\pydantic\\main.py:253: UserWarning: Casting invalid PixelsID '0' to 'Pixels:0'\n",
      "  validated_self = self.__pydantic_validator__.validate_python(data, self_instance=self)\n",
      "c:\\Users\\Xiaofei\\.conda\\envs\\quilt-env\\lib\\site-packages\\pydantic\\main.py:253: UserWarning: Casting invalid ImageID '0' to 'Image:0'\n",
      "  validated_self = self.__pydantic_validator__.validate_python(data, self_instance=self)\n"
     ]
    },
    {
     "name": "stdout",
     "output_type": "stream",
     "text": [
      "✅ 成功保存: test_images\\structure_examples\\TOMM20_raw.tif 和 test_images\\structure_examples\\TOMM20_seg.tif\n",
      "\n",
      "▶ 正在处理结构: TUBA1B\n"
     ]
    },
    {
     "name": "stderr",
     "output_type": "stream",
     "text": [
      "100%|██████████| 300M/300M [00:19<00:00, 15.6MB/s]  \n",
      "100%|██████████| 1.21M/1.21M [00:04<00:00, 301kB/s]\n",
      "c:\\Users\\Xiaofei\\.conda\\envs\\quilt-env\\lib\\site-packages\\pydantic\\main.py:253: UserWarning: Casting invalid PixelsID '0' to 'Pixels:0'\n",
      "  validated_self = self.__pydantic_validator__.validate_python(data, self_instance=self)\n",
      "c:\\Users\\Xiaofei\\.conda\\envs\\quilt-env\\lib\\site-packages\\pydantic\\main.py:253: UserWarning: Casting invalid ImageID '0' to 'Image:0'\n",
      "  validated_self = self.__pydantic_validator__.validate_python(data, self_instance=self)\n"
     ]
    },
    {
     "name": "stdout",
     "output_type": "stream",
     "text": [
      "✅ 成功保存: test_images\\structure_examples\\TUBA1B_raw.tif 和 test_images\\structure_examples\\TUBA1B_seg.tif\n"
     ]
    }
   ],
   "source": [
    "# 对于每种 structure_name：\n",
    "# 下载 fov_path 对应的图像，提取结构通道 ChannelNumberStruct，保存为 结构名_raw.tif\n",
    "# 下载 struct_seg_path 对应的分割图像，保存为 结构名_seg.tif\n",
    "# 文件统一保存在 ./test_images/structure_examples/ 文件夹中\n",
    "# 如果遇到问题，访问下一条记录\n",
    "# 如果代码运行一直出错可能是网络问题\n",
    "import pandas as pd\n",
    "import quilt3 as q3\n",
    "from pathlib import Path\n",
    "from aicsimageio import AICSImage\n",
    "from tifffile import imwrite\n",
    "\n",
    "# 参数\n",
    "MAX_TRIES = 10\n",
    "output_dir = Path(img_save_path)\n",
    "output_dir.mkdir(parents=True, exist_ok=True)\n",
    "\n",
    "# 加载 metadata\n",
    "df = pd.read_csv(metadata_save_name)\n",
    "df_unique = df.drop_duplicates(subset=\"fov_path\")\n",
    "\n",
    "# quilt 包\n",
    "pkg = q3.Package.browse(\"aics/hipsc_single_cell_image_dataset\", registry=\"s3://allencell\")\n",
    "\n",
    "# 遍历每个结构\n",
    "for structure, group in df_unique.groupby(\"structure_name\"):\n",
    "    print(f\"\\n▶ 正在处理结构: {structure}\")\n",
    "    success = False\n",
    "\n",
    "    for _, row in group.head(MAX_TRIES).iterrows():\n",
    "        try:\n",
    "            # 下载并读取 fov 图像\n",
    "            fov_path = row[\"fov_path\"]\n",
    "            local_fov = output_dir / \"temp_fov.ome.tiff\"\n",
    "            if not local_fov.exists():\n",
    "                pkg[fov_path].fetch(local_fov)\n",
    "            img = AICSImage(local_fov)\n",
    "            ch_idx = int(row[\"ChannelNumberStruct\"])\n",
    "            raw = img.get_image_data(\"ZYX\", C=ch_idx)\n",
    "\n",
    "            # 下载并读取 seg 图像\n",
    "            seg_path = row[\"struct_seg_path\"]\n",
    "            local_seg = output_dir / \"temp_seg.ome.tiff\"\n",
    "            if not local_seg.exists():\n",
    "                pkg[seg_path].fetch(local_seg)\n",
    "            seg = AICSImage(local_seg).get_image_data(\"ZYX\")\n",
    "\n",
    "            # 保存输出\n",
    "            raw_out = output_dir / f\"{structure}_raw.tif\"\n",
    "            seg_out = output_dir / f\"{structure}_seg.tif\"\n",
    "            imwrite(raw_out, raw)\n",
    "            imwrite(seg_out, seg)\n",
    "            print(f\"✅ 成功保存: {raw_out} 和 {seg_out}\")\n",
    "\n",
    "            # 删除临时文件\n",
    "            local_fov.unlink(missing_ok=True)\n",
    "            local_seg.unlink(missing_ok=True)\n",
    "\n",
    "            success = True\n",
    "            break\n",
    "        except Exception as e:\n",
    "            print(f\"⚠️ 失败: {e}\")\n",
    "            continue\n",
    "\n",
    "    if not success:\n",
    "        print(f\"❌ {structure} 的前 {MAX_TRIES} 条记录全部失败\")\n"
   ]
  }
 ],
 "metadata": {
  "kernelspec": {
   "display_name": "quilt-env",
   "language": "python",
   "name": "python3"
  },
  "language_info": {
   "codemirror_mode": {
    "name": "ipython",
    "version": 3
   },
   "file_extension": ".py",
   "mimetype": "text/x-python",
   "name": "python",
   "nbconvert_exporter": "python",
   "pygments_lexer": "ipython3",
   "version": "3.10.18"
  }
 },
 "nbformat": 4,
 "nbformat_minor": 5
}
