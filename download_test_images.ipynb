{
 "cells": [
  {
   "cell_type": "code",
   "execution_count": 1,
   "id": "95b58f11",
   "metadata": {},
   "outputs": [],
   "source": [
    "# conda create -n quilt-env python=3.10\n",
    "# conda activate quilt-env\n",
    "# pip install quilt3 pydantic==2.0\n",
    "# conda install ipykernel\n",
    "# conda install pandas\n",
    "# conda install aicsimageio\n",
    "\n",
    "\n",
    "save_path = \"./test_images\"\n",
    "metadata_save_name = save_path + \"/metadata.csv\"\n",
    "img_save_path = save_path + \"/structure_examples\""
   ]
  },
  {
   "cell_type": "code",
   "execution_count": 4,
   "id": "02d17933",
   "metadata": {},
   "outputs": [
    {
     "name": "stderr",
     "output_type": "stream",
     "text": [
      "Loading manifest: 100%|██████████| 484465/484465 [00:06<00:00, 71.2k/s]\n",
      "100%|██████████| 1.69G/1.69G [01:22<00:00, 20.6MB/s] \n"
     ]
    },
    {
     "data": {
      "text/plain": [
       "PackageEntry('file:///home/projects/cellpose/test_images/metadata.csv')"
      ]
     },
     "execution_count": 4,
     "metadata": {},
     "output_type": "execute_result"
    }
   ],
   "source": [
    "import quilt3 as q3\n",
    "q3.Package.browse(\n",
    "    \"aics/hipsc_single_cell_image_dataset\",\n",
    "    registry=\"s3://allencell\"\n",
    ")[\"metadata.csv\"].fetch(metadata_save_name)\n"
   ]
  },
  {
   "cell_type": "code",
   "execution_count": 5,
   "id": "fe7572f1",
   "metadata": {},
   "outputs": [
    {
     "name": "stderr",
     "output_type": "stream",
     "text": [
      "09-Jul-25 21:53:30 - bfio.backends - WARNING  - Java backend is not available. This could be due to a missing dependency (jpype).\n",
      "/tmp/ipykernel_103616/3351000164.py:19: DtypeWarning: Columns (33) have mixed types. Specify dtype option on import or set low_memory=False.\n",
      "  df = pd.read_csv(metadata_save_name)\n",
      "Loading manifest: 100%|██████████| 484465/484465 [00:06<00:00, 74.1k/s]\n"
     ]
    },
    {
     "name": "stdout",
     "output_type": "stream",
     "text": [
      "\n",
      "▶ 正在处理结构: AAVS1\n"
     ]
    },
    {
     "name": "stderr",
     "output_type": "stream",
     "text": [
      "100%|██████████| 423M/423M [00:23<00:00, 18.1MB/s]  \n",
      "100%|██████████| 615k/615k [00:04<00:00, 146kB/s] \n",
      "/root/anaconda3/envs/quilt-env/lib/python3.10/site-packages/pydantic/main.py:253: UserWarning: Casting invalid PixelsID '0' to 'Pixels:0'\n",
      "  validated_self = self.__pydantic_validator__.validate_python(data, self_instance=self)\n",
      "/root/anaconda3/envs/quilt-env/lib/python3.10/site-packages/pydantic/main.py:253: UserWarning: Casting invalid ImageID '0' to 'Image:0'\n",
      "  validated_self = self.__pydantic_validator__.validate_python(data, self_instance=self)\n"
     ]
    },
    {
     "name": "stdout",
     "output_type": "stream",
     "text": [
      "✅ 成功保存: test_images/structure_examples/AAVS1_raw.tif 和 test_images/structure_examples/AAVS1_seg.tif\n",
      "\n",
      "▶ 正在处理结构: ACTB\n"
     ]
    },
    {
     "name": "stderr",
     "output_type": "stream",
     "text": [
      "100%|██████████| 441M/441M [00:20<00:00, 21.8MB/s]  \n",
      "100%|██████████| 469k/469k [00:04<00:00, 112kB/s] \n",
      "/root/anaconda3/envs/quilt-env/lib/python3.10/site-packages/pydantic/main.py:253: UserWarning: Casting invalid PixelsID '0' to 'Pixels:0'\n",
      "  validated_self = self.__pydantic_validator__.validate_python(data, self_instance=self)\n",
      "/root/anaconda3/envs/quilt-env/lib/python3.10/site-packages/pydantic/main.py:253: UserWarning: Casting invalid ImageID '0' to 'Image:0'\n",
      "  validated_self = self.__pydantic_validator__.validate_python(data, self_instance=self)\n"
     ]
    },
    {
     "name": "stdout",
     "output_type": "stream",
     "text": [
      "✅ 成功保存: test_images/structure_examples/ACTB_raw.tif 和 test_images/structure_examples/ACTB_seg.tif\n",
      "\n",
      "▶ 正在处理结构: ACTN1\n"
     ]
    },
    {
     "name": "stderr",
     "output_type": "stream",
     "text": [
      "100%|██████████| 379M/379M [00:21<00:00, 17.5MB/s]  \n",
      "100%|██████████| 425k/425k [00:04<00:00, 102kB/s] \n",
      "/root/anaconda3/envs/quilt-env/lib/python3.10/site-packages/pydantic/main.py:253: UserWarning: Casting invalid PixelsID '0' to 'Pixels:0'\n",
      "  validated_self = self.__pydantic_validator__.validate_python(data, self_instance=self)\n",
      "/root/anaconda3/envs/quilt-env/lib/python3.10/site-packages/pydantic/main.py:253: UserWarning: Casting invalid ImageID '0' to 'Image:0'\n",
      "  validated_self = self.__pydantic_validator__.validate_python(data, self_instance=self)\n"
     ]
    },
    {
     "name": "stdout",
     "output_type": "stream",
     "text": [
      "✅ 成功保存: test_images/structure_examples/ACTN1_raw.tif 和 test_images/structure_examples/ACTN1_seg.tif\n",
      "\n",
      "▶ 正在处理结构: ATP2A2\n"
     ]
    },
    {
     "name": "stderr",
     "output_type": "stream",
     "text": [
      "100%|██████████| 179M/179M [00:12<00:00, 13.8MB/s] \n",
      "100%|██████████| 730k/730k [00:04<00:00, 171kB/s] \n",
      "/root/anaconda3/envs/quilt-env/lib/python3.10/site-packages/pydantic/main.py:253: UserWarning: Casting invalid PixelsID '0' to 'Pixels:0'\n",
      "  validated_self = self.__pydantic_validator__.validate_python(data, self_instance=self)\n",
      "/root/anaconda3/envs/quilt-env/lib/python3.10/site-packages/pydantic/main.py:253: UserWarning: Casting invalid ImageID '0' to 'Image:0'\n",
      "  validated_self = self.__pydantic_validator__.validate_python(data, self_instance=self)\n"
     ]
    },
    {
     "name": "stdout",
     "output_type": "stream",
     "text": [
      "✅ 成功保存: test_images/structure_examples/ATP2A2_raw.tif 和 test_images/structure_examples/ATP2A2_seg.tif\n",
      "\n",
      "▶ 正在处理结构: CETN2\n"
     ]
    },
    {
     "name": "stderr",
     "output_type": "stream",
     "text": [
      "100%|██████████| 349M/349M [00:17<00:00, 19.8MB/s]  \n",
      "100%|██████████| 83.9k/83.9k [00:03<00:00, 22.5kB/s]\n",
      "/root/anaconda3/envs/quilt-env/lib/python3.10/site-packages/pydantic/main.py:253: UserWarning: Casting invalid PixelsID '0' to 'Pixels:0'\n",
      "  validated_self = self.__pydantic_validator__.validate_python(data, self_instance=self)\n",
      "/root/anaconda3/envs/quilt-env/lib/python3.10/site-packages/pydantic/main.py:253: UserWarning: Casting invalid ImageID '0' to 'Image:0'\n",
      "  validated_self = self.__pydantic_validator__.validate_python(data, self_instance=self)\n"
     ]
    },
    {
     "name": "stdout",
     "output_type": "stream",
     "text": [
      "✅ 成功保存: test_images/structure_examples/CETN2_raw.tif 和 test_images/structure_examples/CETN2_seg.tif\n",
      "\n",
      "▶ 正在处理结构: CTNNB1\n"
     ]
    },
    {
     "name": "stderr",
     "output_type": "stream",
     "text": [
      "100%|██████████| 368M/368M [00:26<00:00, 14.1MB/s]  \n",
      "100%|██████████| 499k/499k [00:04<00:00, 121kB/s] \n",
      "/root/anaconda3/envs/quilt-env/lib/python3.10/site-packages/pydantic/main.py:253: UserWarning: Casting invalid PixelsID '0' to 'Pixels:0'\n",
      "  validated_self = self.__pydantic_validator__.validate_python(data, self_instance=self)\n",
      "/root/anaconda3/envs/quilt-env/lib/python3.10/site-packages/pydantic/main.py:253: UserWarning: Casting invalid ImageID '0' to 'Image:0'\n",
      "  validated_self = self.__pydantic_validator__.validate_python(data, self_instance=self)\n"
     ]
    },
    {
     "name": "stdout",
     "output_type": "stream",
     "text": [
      "✅ 成功保存: test_images/structure_examples/CTNNB1_raw.tif 和 test_images/structure_examples/CTNNB1_seg.tif\n",
      "\n",
      "▶ 正在处理结构: DSP\n"
     ]
    },
    {
     "name": "stderr",
     "output_type": "stream",
     "text": [
      "100%|██████████| 383M/383M [00:24<00:00, 15.6MB/s]  \n",
      "100%|██████████| 93.0k/93.0k [00:04<00:00, 23.1kB/s]\n",
      "/root/anaconda3/envs/quilt-env/lib/python3.10/site-packages/pydantic/main.py:253: UserWarning: Casting invalid PixelsID '0' to 'Pixels:0'\n",
      "  validated_self = self.__pydantic_validator__.validate_python(data, self_instance=self)\n",
      "/root/anaconda3/envs/quilt-env/lib/python3.10/site-packages/pydantic/main.py:253: UserWarning: Casting invalid ImageID '0' to 'Image:0'\n",
      "  validated_self = self.__pydantic_validator__.validate_python(data, self_instance=self)\n"
     ]
    },
    {
     "name": "stdout",
     "output_type": "stream",
     "text": [
      "✅ 成功保存: test_images/structure_examples/DSP_raw.tif 和 test_images/structure_examples/DSP_seg.tif\n",
      "\n",
      "▶ 正在处理结构: FBL\n"
     ]
    },
    {
     "name": "stderr",
     "output_type": "stream",
     "text": [
      "100%|██████████| 384M/384M [00:18<00:00, 21.3MB/s]  \n",
      "100%|██████████| 174k/174k [00:03<00:00, 44.2kB/s]\n",
      "/root/anaconda3/envs/quilt-env/lib/python3.10/site-packages/pydantic/main.py:253: UserWarning: Casting invalid PixelsID '0' to 'Pixels:0'\n",
      "  validated_self = self.__pydantic_validator__.validate_python(data, self_instance=self)\n",
      "/root/anaconda3/envs/quilt-env/lib/python3.10/site-packages/pydantic/main.py:253: UserWarning: Casting invalid ImageID '0' to 'Image:0'\n",
      "  validated_self = self.__pydantic_validator__.validate_python(data, self_instance=self)\n"
     ]
    },
    {
     "name": "stdout",
     "output_type": "stream",
     "text": [
      "✅ 成功保存: test_images/structure_examples/FBL_raw.tif 和 test_images/structure_examples/FBL_seg.tif\n",
      "\n",
      "▶ 正在处理结构: GJA1\n"
     ]
    },
    {
     "name": "stderr",
     "output_type": "stream",
     "text": [
      "100%|██████████| 348M/348M [00:24<00:00, 14.3MB/s]  \n",
      "100%|██████████| 123k/123k [00:03<00:00, 31.6kB/s]\n",
      "/root/anaconda3/envs/quilt-env/lib/python3.10/site-packages/pydantic/main.py:253: UserWarning: Casting invalid PixelsID '0' to 'Pixels:0'\n",
      "  validated_self = self.__pydantic_validator__.validate_python(data, self_instance=self)\n",
      "/root/anaconda3/envs/quilt-env/lib/python3.10/site-packages/pydantic/main.py:253: UserWarning: Casting invalid ImageID '0' to 'Image:0'\n",
      "  validated_self = self.__pydantic_validator__.validate_python(data, self_instance=self)\n"
     ]
    },
    {
     "name": "stdout",
     "output_type": "stream",
     "text": [
      "✅ 成功保存: test_images/structure_examples/GJA1_raw.tif 和 test_images/structure_examples/GJA1_seg.tif\n",
      "\n",
      "▶ 正在处理结构: HIST1H2BJ\n"
     ]
    },
    {
     "name": "stderr",
     "output_type": "stream",
     "text": [
      "100%|██████████| 190M/190M [00:31<00:00, 6.07MB/s] \n",
      "100%|██████████| 479k/479k [00:05<00:00, 86.5kB/s]\n",
      "/root/anaconda3/envs/quilt-env/lib/python3.10/site-packages/pydantic/main.py:253: UserWarning: Casting invalid PixelsID '0' to 'Pixels:0'\n",
      "  validated_self = self.__pydantic_validator__.validate_python(data, self_instance=self)\n",
      "/root/anaconda3/envs/quilt-env/lib/python3.10/site-packages/pydantic/main.py:253: UserWarning: Casting invalid ImageID '0' to 'Image:0'\n",
      "  validated_self = self.__pydantic_validator__.validate_python(data, self_instance=self)\n"
     ]
    },
    {
     "name": "stdout",
     "output_type": "stream",
     "text": [
      "✅ 成功保存: test_images/structure_examples/HIST1H2BJ_raw.tif 和 test_images/structure_examples/HIST1H2BJ_seg.tif\n",
      "\n",
      "▶ 正在处理结构: LAMP1\n"
     ]
    },
    {
     "name": "stderr",
     "output_type": "stream",
     "text": [
      "100%|██████████| 385M/385M [00:22<00:00, 17.4MB/s]  \n",
      "100%|██████████| 409k/409k [00:04<00:00, 84.0kB/s]\n",
      "/root/anaconda3/envs/quilt-env/lib/python3.10/site-packages/pydantic/main.py:253: UserWarning: Casting invalid PixelsID '0' to 'Pixels:0'\n",
      "  validated_self = self.__pydantic_validator__.validate_python(data, self_instance=self)\n",
      "/root/anaconda3/envs/quilt-env/lib/python3.10/site-packages/pydantic/main.py:253: UserWarning: Casting invalid ImageID '0' to 'Image:0'\n",
      "  validated_self = self.__pydantic_validator__.validate_python(data, self_instance=self)\n"
     ]
    },
    {
     "name": "stdout",
     "output_type": "stream",
     "text": [
      "✅ 成功保存: test_images/structure_examples/LAMP1_raw.tif 和 test_images/structure_examples/LAMP1_seg.tif\n",
      "\n",
      "▶ 正在处理结构: LMNB1\n"
     ]
    },
    {
     "name": "stderr",
     "output_type": "stream",
     "text": [
      "100%|██████████| 413M/413M [00:26<00:00, 15.7MB/s]  \n",
      "100%|██████████| 309k/309k [00:20<00:00, 15.3kB/s]\n",
      "/root/anaconda3/envs/quilt-env/lib/python3.10/site-packages/pydantic/main.py:253: UserWarning: Casting invalid PixelsID '0' to 'Pixels:0'\n",
      "  validated_self = self.__pydantic_validator__.validate_python(data, self_instance=self)\n",
      "/root/anaconda3/envs/quilt-env/lib/python3.10/site-packages/pydantic/main.py:253: UserWarning: Casting invalid ImageID '0' to 'Image:0'\n",
      "  validated_self = self.__pydantic_validator__.validate_python(data, self_instance=self)\n"
     ]
    },
    {
     "name": "stdout",
     "output_type": "stream",
     "text": [
      "✅ 成功保存: test_images/structure_examples/LMNB1_raw.tif 和 test_images/structure_examples/LMNB1_seg.tif\n",
      "\n",
      "▶ 正在处理结构: MYH10\n"
     ]
    },
    {
     "name": "stderr",
     "output_type": "stream",
     "text": [
      "100%|██████████| 359M/359M [00:29<00:00, 12.2MB/s]  \n",
      "100%|██████████| 370k/370k [00:04<00:00, 84.1kB/s]\n",
      "/root/anaconda3/envs/quilt-env/lib/python3.10/site-packages/pydantic/main.py:253: UserWarning: Casting invalid PixelsID '0' to 'Pixels:0'\n",
      "  validated_self = self.__pydantic_validator__.validate_python(data, self_instance=self)\n",
      "/root/anaconda3/envs/quilt-env/lib/python3.10/site-packages/pydantic/main.py:253: UserWarning: Casting invalid ImageID '0' to 'Image:0'\n",
      "  validated_self = self.__pydantic_validator__.validate_python(data, self_instance=self)\n"
     ]
    },
    {
     "name": "stdout",
     "output_type": "stream",
     "text": [
      "✅ 成功保存: test_images/structure_examples/MYH10_raw.tif 和 test_images/structure_examples/MYH10_seg.tif\n",
      "\n",
      "▶ 正在处理结构: NPM1\n"
     ]
    },
    {
     "name": "stderr",
     "output_type": "stream",
     "text": [
      "100%|██████████| 394M/394M [00:20<00:00, 19.6MB/s]  \n",
      "100%|██████████| 192k/192k [00:04<00:00, 46.6kB/s]\n",
      "/root/anaconda3/envs/quilt-env/lib/python3.10/site-packages/pydantic/main.py:253: UserWarning: Casting invalid PixelsID '0' to 'Pixels:0'\n",
      "  validated_self = self.__pydantic_validator__.validate_python(data, self_instance=self)\n",
      "/root/anaconda3/envs/quilt-env/lib/python3.10/site-packages/pydantic/main.py:253: UserWarning: Casting invalid ImageID '0' to 'Image:0'\n",
      "  validated_self = self.__pydantic_validator__.validate_python(data, self_instance=self)\n"
     ]
    },
    {
     "name": "stdout",
     "output_type": "stream",
     "text": [
      "✅ 成功保存: test_images/structure_examples/NPM1_raw.tif 和 test_images/structure_examples/NPM1_seg.tif\n",
      "\n",
      "▶ 正在处理结构: NUP153\n"
     ]
    },
    {
     "name": "stderr",
     "output_type": "stream",
     "text": [
      "100%|██████████| 175M/175M [00:13<00:00, 13.3MB/s] \n",
      "100%|██████████| 519k/519k [00:04<00:00, 116kB/s] \n",
      "/root/anaconda3/envs/quilt-env/lib/python3.10/site-packages/pydantic/main.py:253: UserWarning: Casting invalid PixelsID '0' to 'Pixels:0'\n",
      "  validated_self = self.__pydantic_validator__.validate_python(data, self_instance=self)\n",
      "/root/anaconda3/envs/quilt-env/lib/python3.10/site-packages/pydantic/main.py:253: UserWarning: Casting invalid ImageID '0' to 'Image:0'\n",
      "  validated_self = self.__pydantic_validator__.validate_python(data, self_instance=self)\n"
     ]
    },
    {
     "name": "stdout",
     "output_type": "stream",
     "text": [
      "✅ 成功保存: test_images/structure_examples/NUP153_raw.tif 和 test_images/structure_examples/NUP153_seg.tif\n",
      "\n",
      "▶ 正在处理结构: PXN\n"
     ]
    },
    {
     "name": "stderr",
     "output_type": "stream",
     "text": [
      "100%|██████████| 350M/350M [00:20<00:00, 17.3MB/s]  \n",
      "100%|██████████| 94.0k/94.0k [00:03<00:00, 25.5kB/s]\n",
      "/root/anaconda3/envs/quilt-env/lib/python3.10/site-packages/pydantic/main.py:253: UserWarning: Casting invalid PixelsID '0' to 'Pixels:0'\n",
      "  validated_self = self.__pydantic_validator__.validate_python(data, self_instance=self)\n",
      "/root/anaconda3/envs/quilt-env/lib/python3.10/site-packages/pydantic/main.py:253: UserWarning: Casting invalid ImageID '0' to 'Image:0'\n",
      "  validated_self = self.__pydantic_validator__.validate_python(data, self_instance=self)\n"
     ]
    },
    {
     "name": "stdout",
     "output_type": "stream",
     "text": [
      "✅ 成功保存: test_images/structure_examples/PXN_raw.tif 和 test_images/structure_examples/PXN_seg.tif\n",
      "\n",
      "▶ 正在处理结构: RAB5A\n"
     ]
    },
    {
     "name": "stderr",
     "output_type": "stream",
     "text": [
      "100%|██████████| 198M/198M [00:15<00:00, 13.1MB/s] \n",
      "100%|██████████| 147k/147k [00:03<00:00, 38.5kB/s]\n",
      "/root/anaconda3/envs/quilt-env/lib/python3.10/site-packages/pydantic/main.py:253: UserWarning: Casting invalid PixelsID '0' to 'Pixels:0'\n",
      "  validated_self = self.__pydantic_validator__.validate_python(data, self_instance=self)\n",
      "/root/anaconda3/envs/quilt-env/lib/python3.10/site-packages/pydantic/main.py:253: UserWarning: Casting invalid ImageID '0' to 'Image:0'\n",
      "  validated_self = self.__pydantic_validator__.validate_python(data, self_instance=self)\n"
     ]
    },
    {
     "name": "stdout",
     "output_type": "stream",
     "text": [
      "✅ 成功保存: test_images/structure_examples/RAB5A_raw.tif 和 test_images/structure_examples/RAB5A_seg.tif\n",
      "\n",
      "▶ 正在处理结构: SEC61B\n"
     ]
    },
    {
     "name": "stderr",
     "output_type": "stream",
     "text": [
      "100%|██████████| 414M/414M [00:25<00:00, 16.2MB/s]  \n",
      "100%|██████████| 1.46M/1.46M [00:04<00:00, 322kB/s]\n",
      "/root/anaconda3/envs/quilt-env/lib/python3.10/site-packages/pydantic/main.py:253: UserWarning: Casting invalid PixelsID '0' to 'Pixels:0'\n",
      "  validated_self = self.__pydantic_validator__.validate_python(data, self_instance=self)\n",
      "/root/anaconda3/envs/quilt-env/lib/python3.10/site-packages/pydantic/main.py:253: UserWarning: Casting invalid ImageID '0' to 'Image:0'\n",
      "  validated_self = self.__pydantic_validator__.validate_python(data, self_instance=self)\n"
     ]
    },
    {
     "name": "stdout",
     "output_type": "stream",
     "text": [
      "✅ 成功保存: test_images/structure_examples/SEC61B_raw.tif 和 test_images/structure_examples/SEC61B_seg.tif\n",
      "\n",
      "▶ 正在处理结构: SLC25A17\n"
     ]
    },
    {
     "name": "stderr",
     "output_type": "stream",
     "text": [
      "100%|██████████| 182M/182M [00:18<00:00, 10.0MB/s] \n",
      "100%|██████████| 129k/129k [00:03<00:00, 33.0kB/s]\n",
      "/root/anaconda3/envs/quilt-env/lib/python3.10/site-packages/pydantic/main.py:253: UserWarning: Casting invalid PixelsID '0' to 'Pixels:0'\n",
      "  validated_self = self.__pydantic_validator__.validate_python(data, self_instance=self)\n",
      "/root/anaconda3/envs/quilt-env/lib/python3.10/site-packages/pydantic/main.py:253: UserWarning: Casting invalid ImageID '0' to 'Image:0'\n",
      "  validated_self = self.__pydantic_validator__.validate_python(data, self_instance=self)\n"
     ]
    },
    {
     "name": "stdout",
     "output_type": "stream",
     "text": [
      "✅ 成功保存: test_images/structure_examples/SLC25A17_raw.tif 和 test_images/structure_examples/SLC25A17_seg.tif\n",
      "\n",
      "▶ 正在处理结构: SMC1A\n"
     ]
    },
    {
     "name": "stderr",
     "output_type": "stream",
     "text": [
      "100%|██████████| 211M/211M [00:29<00:00, 7.14MB/s] \n",
      "100%|██████████| 126k/126k [00:03<00:00, 31.8kB/s]\n",
      "/root/anaconda3/envs/quilt-env/lib/python3.10/site-packages/pydantic/main.py:253: UserWarning: Casting invalid PixelsID '0' to 'Pixels:0'\n",
      "  validated_self = self.__pydantic_validator__.validate_python(data, self_instance=self)\n",
      "/root/anaconda3/envs/quilt-env/lib/python3.10/site-packages/pydantic/main.py:253: UserWarning: Casting invalid ImageID '0' to 'Image:0'\n",
      "  validated_self = self.__pydantic_validator__.validate_python(data, self_instance=self)\n"
     ]
    },
    {
     "name": "stdout",
     "output_type": "stream",
     "text": [
      "✅ 成功保存: test_images/structure_examples/SMC1A_raw.tif 和 test_images/structure_examples/SMC1A_seg.tif\n",
      "\n",
      "▶ 正在处理结构: SON\n"
     ]
    },
    {
     "name": "stderr",
     "output_type": "stream",
     "text": [
      "100%|██████████| 220M/220M [00:27<00:00, 7.95MB/s] \n",
      "100%|██████████| 179k/179k [00:04<00:00, 42.3kB/s]\n",
      "/root/anaconda3/envs/quilt-env/lib/python3.10/site-packages/pydantic/main.py:253: UserWarning: Casting invalid PixelsID '0' to 'Pixels:0'\n",
      "  validated_self = self.__pydantic_validator__.validate_python(data, self_instance=self)\n",
      "/root/anaconda3/envs/quilt-env/lib/python3.10/site-packages/pydantic/main.py:253: UserWarning: Casting invalid ImageID '0' to 'Image:0'\n",
      "  validated_self = self.__pydantic_validator__.validate_python(data, self_instance=self)\n"
     ]
    },
    {
     "name": "stdout",
     "output_type": "stream",
     "text": [
      "✅ 成功保存: test_images/structure_examples/SON_raw.tif 和 test_images/structure_examples/SON_seg.tif\n",
      "\n",
      "▶ 正在处理结构: ST6GAL1\n"
     ]
    },
    {
     "name": "stderr",
     "output_type": "stream",
     "text": [
      "100%|██████████| 357M/357M [00:28<00:00, 12.4MB/s]  \n",
      "100%|██████████| 170k/170k [00:03<00:00, 44.0kB/s]\n",
      "/root/anaconda3/envs/quilt-env/lib/python3.10/site-packages/pydantic/main.py:253: UserWarning: Casting invalid PixelsID '0' to 'Pixels:0'\n",
      "  validated_self = self.__pydantic_validator__.validate_python(data, self_instance=self)\n",
      "/root/anaconda3/envs/quilt-env/lib/python3.10/site-packages/pydantic/main.py:253: UserWarning: Casting invalid ImageID '0' to 'Image:0'\n",
      "  validated_self = self.__pydantic_validator__.validate_python(data, self_instance=self)\n"
     ]
    },
    {
     "name": "stdout",
     "output_type": "stream",
     "text": [
      "✅ 成功保存: test_images/structure_examples/ST6GAL1_raw.tif 和 test_images/structure_examples/ST6GAL1_seg.tif\n",
      "\n",
      "▶ 正在处理结构: TJP1\n"
     ]
    },
    {
     "name": "stderr",
     "output_type": "stream",
     "text": [
      "100%|██████████| 327M/327M [00:24<00:00, 13.6MB/s]  \n",
      "100%|██████████| 124k/124k [00:04<00:00, 30.4kB/s]\n",
      "/root/anaconda3/envs/quilt-env/lib/python3.10/site-packages/pydantic/main.py:253: UserWarning: Casting invalid PixelsID '0' to 'Pixels:0'\n",
      "  validated_self = self.__pydantic_validator__.validate_python(data, self_instance=self)\n",
      "/root/anaconda3/envs/quilt-env/lib/python3.10/site-packages/pydantic/main.py:253: UserWarning: Casting invalid ImageID '0' to 'Image:0'\n",
      "  validated_self = self.__pydantic_validator__.validate_python(data, self_instance=self)\n"
     ]
    },
    {
     "name": "stdout",
     "output_type": "stream",
     "text": [
      "✅ 成功保存: test_images/structure_examples/TJP1_raw.tif 和 test_images/structure_examples/TJP1_seg.tif\n",
      "\n",
      "▶ 正在处理结构: TOMM20\n"
     ]
    },
    {
     "name": "stderr",
     "output_type": "stream",
     "text": [
      "100%|██████████| 372M/372M [00:22<00:00, 16.8MB/s]  \n",
      "100%|██████████| 599k/599k [00:07<00:00, 83.5kB/s]\n",
      "/root/anaconda3/envs/quilt-env/lib/python3.10/site-packages/pydantic/main.py:253: UserWarning: Casting invalid PixelsID '0' to 'Pixels:0'\n",
      "  validated_self = self.__pydantic_validator__.validate_python(data, self_instance=self)\n",
      "/root/anaconda3/envs/quilt-env/lib/python3.10/site-packages/pydantic/main.py:253: UserWarning: Casting invalid ImageID '0' to 'Image:0'\n",
      "  validated_self = self.__pydantic_validator__.validate_python(data, self_instance=self)\n"
     ]
    },
    {
     "name": "stdout",
     "output_type": "stream",
     "text": [
      "✅ 成功保存: test_images/structure_examples/TOMM20_raw.tif 和 test_images/structure_examples/TOMM20_seg.tif\n",
      "\n",
      "▶ 正在处理结构: TUBA1B\n"
     ]
    },
    {
     "name": "stderr",
     "output_type": "stream",
     "text": [
      "100%|██████████| 300M/300M [00:33<00:00, 9.01MB/s]  \n",
      "100%|██████████| 1.21M/1.21M [00:04<00:00, 279kB/s]\n",
      "/root/anaconda3/envs/quilt-env/lib/python3.10/site-packages/pydantic/main.py:253: UserWarning: Casting invalid PixelsID '0' to 'Pixels:0'\n",
      "  validated_self = self.__pydantic_validator__.validate_python(data, self_instance=self)\n",
      "/root/anaconda3/envs/quilt-env/lib/python3.10/site-packages/pydantic/main.py:253: UserWarning: Casting invalid ImageID '0' to 'Image:0'\n",
      "  validated_self = self.__pydantic_validator__.validate_python(data, self_instance=self)\n"
     ]
    },
    {
     "name": "stdout",
     "output_type": "stream",
     "text": [
      "✅ 成功保存: test_images/structure_examples/TUBA1B_raw.tif 和 test_images/structure_examples/TUBA1B_seg.tif\n"
     ]
    }
   ],
   "source": [
    "# 对于每种 structure_name：\n",
    "# 下载 fov_path 对应的图像，提取结构通道 ChannelNumberStruct，保存为 结构名_raw.tif\n",
    "# 下载 struct_seg_path 对应的分割图像，保存为 结构名_seg.tif\n",
    "# 文件统一保存在 ./test_images/structure_examples/ 文件夹中\n",
    "# 如果遇到问题，访问下一条记录\n",
    "# 如果代码运行一直出错可能是网络问题\n",
    "import pandas as pd\n",
    "import quilt3 as q3\n",
    "from pathlib import Path\n",
    "from aicsimageio import AICSImage\n",
    "from tifffile import imwrite\n",
    "\n",
    "# 参数\n",
    "MAX_TRIES = 10\n",
    "output_dir = Path(img_save_path)\n",
    "output_dir.mkdir(parents=True, exist_ok=True)\n",
    "\n",
    "# 加载 metadata\n",
    "df = pd.read_csv(metadata_save_name)\n",
    "df_unique = df.drop_duplicates(subset=\"fov_path\")\n",
    "\n",
    "# quilt 包\n",
    "pkg = q3.Package.browse(\"aics/hipsc_single_cell_image_dataset\", registry=\"s3://allencell\")\n",
    "\n",
    "# 遍历每个结构\n",
    "for structure, group in df_unique.groupby(\"structure_name\"):\n",
    "    print(f\"\\n▶ 正在处理结构: {structure}\")\n",
    "    success = False\n",
    "\n",
    "    for _, row in group.head(MAX_TRIES).iterrows():\n",
    "        try:\n",
    "            # 下载并读取 fov 图像\n",
    "            fov_path = row[\"fov_path\"]\n",
    "            local_fov = output_dir / \"temp_fov.ome.tiff\"\n",
    "            if not local_fov.exists():\n",
    "                pkg[fov_path].fetch(local_fov)\n",
    "            img = AICSImage(local_fov)\n",
    "            ch_idx = int(row[\"ChannelNumberStruct\"])\n",
    "            raw = img.get_image_data(\"ZYX\", C=ch_idx)\n",
    "\n",
    "            # 下载并读取 seg 图像\n",
    "            seg_path = row[\"struct_seg_path\"]\n",
    "            local_seg = output_dir / \"temp_seg.ome.tiff\"\n",
    "            if not local_seg.exists():\n",
    "                pkg[seg_path].fetch(local_seg)\n",
    "            seg = AICSImage(local_seg).get_image_data(\"ZYX\")\n",
    "\n",
    "            # 保存输出\n",
    "            raw_out = output_dir / f\"{structure}_raw.tif\"\n",
    "            seg_out = output_dir / f\"{structure}_seg.tif\"\n",
    "            imwrite(raw_out, raw)\n",
    "            imwrite(seg_out, seg)\n",
    "            print(f\"✅ 成功保存: {raw_out} 和 {seg_out}\")\n",
    "\n",
    "            # 删除临时文件\n",
    "            local_fov.unlink(missing_ok=True)\n",
    "            local_seg.unlink(missing_ok=True)\n",
    "\n",
    "            success = True\n",
    "            break\n",
    "        except Exception as e:\n",
    "            print(f\"⚠️ 失败: {e}\")\n",
    "            continue\n",
    "\n",
    "    if not success:\n",
    "        print(f\"❌ {structure} 的前 {MAX_TRIES} 条记录全部失败\")\n"
   ]
  },
  {
   "cell_type": "code",
   "execution_count": 2,
   "id": "f29c485e",
   "metadata": {},
   "outputs": [
    {
     "name": "stderr",
     "output_type": "stream",
     "text": [
      "09-Jul-25 23:09:34 - bfio.backends - WARNING  - Java backend is not available. This could be due to a missing dependency (jpype).\n",
      "/tmp/ipykernel_264666/845478045.py:12: DtypeWarning: Columns (33) have mixed types. Specify dtype option on import or set low_memory=False.\n",
      "  df = pd.read_csv(metadata_save_name)\n",
      "Loading manifest: 100%|██████████| 484465/484465 [00:06<00:00, 74.7k/s]\n",
      "09-Jul-25 23:10:01 - tifffile.tifffile - WARNING  - <tifffile.TiffPage 0 @8> <tifffile.TiffTag 270 @70> invalid value offset 411711337\n",
      "09-Jul-25 23:10:01 - tifffile.tifffile - WARNING  - <tifffile.TiffPage 0 @8> <tifffile.TiffTag 270 @70> invalid value offset 411711337\n",
      "09-Jul-25 23:10:01 - tifffile.tifffile - WARNING  - <tifffile.TiffPage 0 @8> <tifffile.TiffTag 270 @70> invalid value offset 411711337\n",
      "09-Jul-25 23:10:01 - tifffile.tifffile - WARNING  - <tifffile.TiffPage 0 @8> <tifffile.TiffTag 270 @70> invalid value offset 411711337\n",
      "09-Jul-25 23:10:01 - tifffile.tifffile - WARNING  - <tifffile.TiffPage 0 @8> <tifffile.TiffTag 270 @70> invalid value offset 411711337\n",
      "09-Jul-25 23:10:01 - tifffile.tifffile - WARNING  - <tifffile.TiffPage 0 @8> <tifffile.TiffTag 270 @70> invalid value offset 411711337\n"
     ]
    },
    {
     "ename": "TiffFileError",
     "evalue": "corrupted strip cannot be reshaped from (912,) to (1, 1, 924, 1)",
     "output_type": "error",
     "traceback": [
      "\u001b[0;31m---------------------------------------------------------------------------\u001b[0m",
      "\u001b[0;31mTiffFileError\u001b[0m                             Traceback (most recent call last)",
      "\u001b[0;32m/tmp/ipykernel_264666/845478045.py\u001b[0m in \u001b[0;36m?\u001b[0;34m()\u001b[0m\n\u001b[1;32m     20\u001b[0m \u001b[0;32mif\u001b[0m \u001b[0;32mnot\u001b[0m \u001b[0mlocal_fov\u001b[0m\u001b[0;34m.\u001b[0m\u001b[0mexists\u001b[0m\u001b[0;34m(\u001b[0m\u001b[0;34m)\u001b[0m\u001b[0;34m:\u001b[0m\u001b[0;34m\u001b[0m\u001b[0;34m\u001b[0m\u001b[0m\n\u001b[1;32m     21\u001b[0m     \u001b[0mpkg\u001b[0m\u001b[0;34m[\u001b[0m\u001b[0mfov_path\u001b[0m\u001b[0;34m]\u001b[0m\u001b[0;34m.\u001b[0m\u001b[0mfetch\u001b[0m\u001b[0;34m(\u001b[0m\u001b[0mlocal_fov\u001b[0m\u001b[0;34m)\u001b[0m\u001b[0;34m\u001b[0m\u001b[0;34m\u001b[0m\u001b[0m\n\u001b[1;32m     22\u001b[0m \u001b[0mimg\u001b[0m \u001b[0;34m=\u001b[0m \u001b[0mAICSImage\u001b[0m\u001b[0;34m(\u001b[0m\u001b[0mlocal_fov\u001b[0m\u001b[0;34m)\u001b[0m\u001b[0;34m\u001b[0m\u001b[0;34m\u001b[0m\u001b[0m\n\u001b[1;32m     23\u001b[0m \u001b[0mch_idx\u001b[0m \u001b[0;34m=\u001b[0m \u001b[0;36m3\u001b[0m\u001b[0;34m\u001b[0m\u001b[0;34m\u001b[0m\u001b[0m\n\u001b[0;32m---> 24\u001b[0;31m \u001b[0mraw\u001b[0m \u001b[0;34m=\u001b[0m \u001b[0mimg\u001b[0m\u001b[0;34m.\u001b[0m\u001b[0mget_image_data\u001b[0m\u001b[0;34m(\u001b[0m\u001b[0;34m\"ZYX\"\u001b[0m\u001b[0;34m,\u001b[0m \u001b[0mC\u001b[0m\u001b[0;34m=\u001b[0m\u001b[0mch_idx\u001b[0m\u001b[0;34m)\u001b[0m\u001b[0;34m\u001b[0m\u001b[0;34m\u001b[0m\u001b[0m\n\u001b[0m\u001b[1;32m     25\u001b[0m \u001b[0;34m\u001b[0m\u001b[0m\n\u001b[1;32m     26\u001b[0m \u001b[0;31m# 下载并读取 seg 图像\u001b[0m\u001b[0;34m\u001b[0m\u001b[0;34m\u001b[0m\u001b[0m\n\u001b[1;32m     27\u001b[0m \u001b[0mseg_path\u001b[0m \u001b[0;34m=\u001b[0m \u001b[0;34m\"struct_seg_path/48d8a51baa42ec1026965c4caef0e2fb5fd0cf6293be816826315d34fba949c3_3500000876_100X_20170508_3-Scene-07-P27-E06_struct_segmentation.tiff\"\u001b[0m\u001b[0;34m\u001b[0m\u001b[0;34m\u001b[0m\u001b[0m\n",
      "\u001b[0;32m~/anaconda3/envs/quilt-env/lib/python3.10/site-packages/aicsimageio/aics_image.py\u001b[0m in \u001b[0;36m?\u001b[0;34m(self, dimension_order_out, **kwargs)\u001b[0m\n\u001b[1;32m    724\u001b[0m             \u001b[0;32mreturn\u001b[0m \u001b[0mself\u001b[0m\u001b[0;34m.\u001b[0m\u001b[0mdata\u001b[0m\u001b[0;34m\u001b[0m\u001b[0;34m\u001b[0m\u001b[0m\n\u001b[1;32m    725\u001b[0m \u001b[0;34m\u001b[0m\u001b[0m\n\u001b[1;32m    726\u001b[0m         \u001b[0;31m# Transform and return\u001b[0m\u001b[0;34m\u001b[0m\u001b[0;34m\u001b[0m\u001b[0m\n\u001b[1;32m    727\u001b[0m         return transforms.reshape_data(\n\u001b[0;32m--> 728\u001b[0;31m             \u001b[0mdata\u001b[0m\u001b[0;34m=\u001b[0m\u001b[0mself\u001b[0m\u001b[0;34m.\u001b[0m\u001b[0mdata\u001b[0m\u001b[0;34m,\u001b[0m\u001b[0;34m\u001b[0m\u001b[0;34m\u001b[0m\u001b[0m\n\u001b[0m\u001b[1;32m    729\u001b[0m             \u001b[0mgiven_dims\u001b[0m\u001b[0;34m=\u001b[0m\u001b[0mself\u001b[0m\u001b[0;34m.\u001b[0m\u001b[0mdims\u001b[0m\u001b[0;34m.\u001b[0m\u001b[0morder\u001b[0m\u001b[0;34m,\u001b[0m\u001b[0;34m\u001b[0m\u001b[0;34m\u001b[0m\u001b[0m\n\u001b[1;32m    730\u001b[0m             \u001b[0mreturn_dims\u001b[0m\u001b[0;34m=\u001b[0m\u001b[0mdimension_order_out\u001b[0m\u001b[0;34m,\u001b[0m\u001b[0;34m\u001b[0m\u001b[0;34m\u001b[0m\u001b[0m\n\u001b[1;32m    731\u001b[0m             \u001b[0;34m**\u001b[0m\u001b[0mkwargs\u001b[0m\u001b[0;34m,\u001b[0m\u001b[0;34m\u001b[0m\u001b[0;34m\u001b[0m\u001b[0m\n",
      "\u001b[0;32m~/anaconda3/envs/quilt-env/lib/python3.10/site-packages/aicsimageio/aics_image.py\u001b[0m in \u001b[0;36m?\u001b[0;34m(self)\u001b[0m\n\u001b[1;32m    538\u001b[0m         \u001b[0;34m-\u001b[0m\u001b[0;34m-\u001b[0m\u001b[0;34m-\u001b[0m\u001b[0;34m-\u001b[0m\u001b[0;34m-\u001b[0m\u001b[0;34m\u001b[0m\u001b[0;34m\u001b[0m\u001b[0m\n\u001b[1;32m    539\u001b[0m         \u001b[0mIf\u001b[0m \u001b[0mthe\u001b[0m \u001b[0mimage\u001b[0m \u001b[0mcontains\u001b[0m \u001b[0mmosaic\u001b[0m \u001b[0mtiles\u001b[0m\u001b[0;34m,\u001b[0m \u001b[0mdata\u001b[0m \u001b[0;32mis\u001b[0m \u001b[0mreturned\u001b[0m \u001b[0malready\u001b[0m \u001b[0mstitched\u001b[0m \u001b[0mtogether\u001b[0m\u001b[0;34m.\u001b[0m\u001b[0;34m\u001b[0m\u001b[0;34m\u001b[0m\u001b[0m\n\u001b[1;32m    540\u001b[0m         \u001b[0mRecommended\u001b[0m \u001b[0mto\u001b[0m \u001b[0muse\u001b[0m\u001b[0;31m \u001b[0m\u001b[0;31m`\u001b[0m\u001b[0mdask_data\u001b[0m\u001b[0;31m`\u001b[0m \u001b[0;32mfor\u001b[0m \u001b[0mlarge\u001b[0m \u001b[0mmosaic\u001b[0m \u001b[0mimages\u001b[0m\u001b[0;34m.\u001b[0m\u001b[0;34m\u001b[0m\u001b[0;34m\u001b[0m\u001b[0m\n\u001b[1;32m    541\u001b[0m         \"\"\"\n\u001b[0;32m--> 542\u001b[0;31m         \u001b[0;32mreturn\u001b[0m \u001b[0mself\u001b[0m\u001b[0;34m.\u001b[0m\u001b[0mxarray_data\u001b[0m\u001b[0;34m.\u001b[0m\u001b[0mdata\u001b[0m\u001b[0;34m\u001b[0m\u001b[0;34m\u001b[0m\u001b[0m\n\u001b[0m",
      "\u001b[0;32m~/anaconda3/envs/quilt-env/lib/python3.10/site-packages/aicsimageio/aics_image.py\u001b[0m in \u001b[0;36m?\u001b[0;34m(self)\u001b[0m\n\u001b[1;32m    497\u001b[0m                     )\n\u001b[1;32m    498\u001b[0m \u001b[0;34m\u001b[0m\u001b[0m\n\u001b[1;32m    499\u001b[0m             \u001b[0;32melse\u001b[0m\u001b[0;34m:\u001b[0m\u001b[0;34m\u001b[0m\u001b[0;34m\u001b[0m\u001b[0m\n\u001b[1;32m    500\u001b[0m                 self._xarray_data = self._transform_data_array_to_aics_image_standard(\n\u001b[0;32m--> 501\u001b[0;31m                     \u001b[0mself\u001b[0m\u001b[0;34m.\u001b[0m\u001b[0mreader\u001b[0m\u001b[0;34m.\u001b[0m\u001b[0mxarray_data\u001b[0m\u001b[0;34m\u001b[0m\u001b[0;34m\u001b[0m\u001b[0m\n\u001b[0m\u001b[1;32m    502\u001b[0m                 )\n\u001b[1;32m    503\u001b[0m \u001b[0;34m\u001b[0m\u001b[0m\n\u001b[1;32m    504\u001b[0m             \u001b[0;31m# Remake the delayed xarray dataarray object using a rechunked dask array\u001b[0m\u001b[0;34m\u001b[0m\u001b[0;34m\u001b[0m\u001b[0m\n",
      "\u001b[0;32m~/anaconda3/envs/quilt-env/lib/python3.10/site-packages/aicsimageio/readers/reader.py\u001b[0m in \u001b[0;36m?\u001b[0;34m(self)\u001b[0m\n\u001b[1;32m    368\u001b[0m         \u001b[0mxarray_data\u001b[0m\u001b[0;34m:\u001b[0m \u001b[0mxr\u001b[0m\u001b[0;34m.\u001b[0m\u001b[0mDataArray\u001b[0m\u001b[0;34m\u001b[0m\u001b[0;34m\u001b[0m\u001b[0m\n\u001b[1;32m    369\u001b[0m             \u001b[0mThe\u001b[0m \u001b[0mfully\u001b[0m \u001b[0mread\u001b[0m \u001b[0mimage\u001b[0m \u001b[0;32mand\u001b[0m \u001b[0mmetadata\u001b[0m \u001b[0;32mas\u001b[0m \u001b[0man\u001b[0m \u001b[0mannotated\u001b[0m \u001b[0mdata\u001b[0m \u001b[0marray\u001b[0m\u001b[0;34m.\u001b[0m\u001b[0;34m\u001b[0m\u001b[0;34m\u001b[0m\u001b[0m\n\u001b[1;32m    370\u001b[0m         \"\"\"\n\u001b[1;32m    371\u001b[0m         \u001b[0;32mif\u001b[0m \u001b[0mself\u001b[0m\u001b[0;34m.\u001b[0m\u001b[0m_xarray_data\u001b[0m \u001b[0;32mis\u001b[0m \u001b[0;32mNone\u001b[0m\u001b[0;34m:\u001b[0m\u001b[0;34m\u001b[0m\u001b[0;34m\u001b[0m\u001b[0m\n\u001b[0;32m--> 372\u001b[0;31m             \u001b[0mself\u001b[0m\u001b[0;34m.\u001b[0m\u001b[0m_xarray_data\u001b[0m \u001b[0;34m=\u001b[0m \u001b[0mself\u001b[0m\u001b[0;34m.\u001b[0m\u001b[0m_read_immediate\u001b[0m\u001b[0;34m(\u001b[0m\u001b[0;34m)\u001b[0m\u001b[0;34m\u001b[0m\u001b[0;34m\u001b[0m\u001b[0m\n\u001b[0m\u001b[1;32m    373\u001b[0m \u001b[0;34m\u001b[0m\u001b[0m\n\u001b[1;32m    374\u001b[0m             \u001b[0;31m# Remake the delayed xarray dataarray object using a rechunked dask array\u001b[0m\u001b[0;34m\u001b[0m\u001b[0;34m\u001b[0m\u001b[0m\n\u001b[1;32m    375\u001b[0m             \u001b[0;31m# from the just retrieved in-memory xarray dataarray\u001b[0m\u001b[0;34m\u001b[0m\u001b[0;34m\u001b[0m\u001b[0m\n",
      "\u001b[0;32m~/anaconda3/envs/quilt-env/lib/python3.10/site-packages/aicsimageio/readers/tiff_reader.py\u001b[0m in \u001b[0;36m?\u001b[0;34m(self)\u001b[0m\n\u001b[1;32m    512\u001b[0m                 \u001b[0;31m# Get dims from provided or guess\u001b[0m\u001b[0;34m\u001b[0m\u001b[0;34m\u001b[0m\u001b[0m\n\u001b[1;32m    513\u001b[0m                 \u001b[0mdims\u001b[0m \u001b[0;34m=\u001b[0m \u001b[0mself\u001b[0m\u001b[0;34m.\u001b[0m\u001b[0m_get_dims_for_scene\u001b[0m\u001b[0;34m(\u001b[0m\u001b[0mtiff\u001b[0m\u001b[0;34m)\u001b[0m\u001b[0;34m\u001b[0m\u001b[0;34m\u001b[0m\u001b[0m\n\u001b[1;32m    514\u001b[0m \u001b[0;34m\u001b[0m\u001b[0m\n\u001b[1;32m    515\u001b[0m                 \u001b[0;31m# Read image into memory\u001b[0m\u001b[0;34m\u001b[0m\u001b[0;34m\u001b[0m\u001b[0m\n\u001b[0;32m--> 516\u001b[0;31m                 \u001b[0mimage_data\u001b[0m \u001b[0;34m=\u001b[0m \u001b[0mtiff\u001b[0m\u001b[0;34m.\u001b[0m\u001b[0mseries\u001b[0m\u001b[0;34m[\u001b[0m\u001b[0mself\u001b[0m\u001b[0;34m.\u001b[0m\u001b[0mcurrent_scene_index\u001b[0m\u001b[0;34m]\u001b[0m\u001b[0;34m.\u001b[0m\u001b[0masarray\u001b[0m\u001b[0;34m(\u001b[0m\u001b[0;34m)\u001b[0m\u001b[0;34m\u001b[0m\u001b[0;34m\u001b[0m\u001b[0m\n\u001b[0m\u001b[1;32m    517\u001b[0m \u001b[0;34m\u001b[0m\u001b[0m\n\u001b[1;32m    518\u001b[0m                 \u001b[0;31m# Get unprocessed metadata from tags\u001b[0m\u001b[0;34m\u001b[0m\u001b[0;34m\u001b[0m\u001b[0m\n\u001b[1;32m    519\u001b[0m                 \u001b[0mtiff_tags\u001b[0m \u001b[0;34m=\u001b[0m \u001b[0mself\u001b[0m\u001b[0;34m.\u001b[0m\u001b[0m_get_tiff_tags\u001b[0m\u001b[0;34m(\u001b[0m\u001b[0mtiff\u001b[0m\u001b[0;34m)\u001b[0m\u001b[0;34m\u001b[0m\u001b[0;34m\u001b[0m\u001b[0m\n",
      "\u001b[0;32m~/anaconda3/envs/quilt-env/lib/python3.10/site-packages/tifffile/tifffile.py\u001b[0m in \u001b[0;36m?\u001b[0;34m(self, level, **kwargs)\u001b[0m\n\u001b[1;32m   8915\u001b[0m         \u001b[0;34m\"\"\"Return image data from series of TIFF pages as numpy array.\"\"\"\u001b[0m\u001b[0;34m\u001b[0m\u001b[0;34m\u001b[0m\u001b[0m\n\u001b[1;32m   8916\u001b[0m         \u001b[0;32mif\u001b[0m \u001b[0mlevel\u001b[0m \u001b[0;32mis\u001b[0m \u001b[0;32mnot\u001b[0m \u001b[0;32mNone\u001b[0m\u001b[0;34m:\u001b[0m\u001b[0;34m\u001b[0m\u001b[0;34m\u001b[0m\u001b[0m\n\u001b[1;32m   8917\u001b[0m             \u001b[0;32mreturn\u001b[0m \u001b[0mself\u001b[0m\u001b[0;34m.\u001b[0m\u001b[0mlevels\u001b[0m\u001b[0;34m[\u001b[0m\u001b[0mlevel\u001b[0m\u001b[0;34m]\u001b[0m\u001b[0;34m.\u001b[0m\u001b[0masarray\u001b[0m\u001b[0;34m(\u001b[0m\u001b[0;34m**\u001b[0m\u001b[0mkwargs\u001b[0m\u001b[0;34m)\u001b[0m\u001b[0;34m\u001b[0m\u001b[0;34m\u001b[0m\u001b[0m\n\u001b[1;32m   8918\u001b[0m         \u001b[0;32mif\u001b[0m \u001b[0mself\u001b[0m\u001b[0;34m.\u001b[0m\u001b[0mparent\u001b[0m\u001b[0;34m:\u001b[0m\u001b[0;34m\u001b[0m\u001b[0;34m\u001b[0m\u001b[0m\n\u001b[0;32m-> 8919\u001b[0;31m             \u001b[0mresult\u001b[0m \u001b[0;34m=\u001b[0m \u001b[0mself\u001b[0m\u001b[0;34m.\u001b[0m\u001b[0mparent\u001b[0m\u001b[0;34m.\u001b[0m\u001b[0masarray\u001b[0m\u001b[0;34m(\u001b[0m\u001b[0mseries\u001b[0m\u001b[0;34m=\u001b[0m\u001b[0mself\u001b[0m\u001b[0;34m,\u001b[0m \u001b[0;34m**\u001b[0m\u001b[0mkwargs\u001b[0m\u001b[0;34m)\u001b[0m\u001b[0;34m\u001b[0m\u001b[0;34m\u001b[0m\u001b[0m\n\u001b[0m\u001b[1;32m   8920\u001b[0m             \u001b[0;32mif\u001b[0m \u001b[0mself\u001b[0m\u001b[0;34m.\u001b[0m\u001b[0mtransform\u001b[0m \u001b[0;32mis\u001b[0m \u001b[0;32mnot\u001b[0m \u001b[0;32mNone\u001b[0m\u001b[0;34m:\u001b[0m\u001b[0;34m\u001b[0m\u001b[0;34m\u001b[0m\u001b[0m\n\u001b[1;32m   8921\u001b[0m                 \u001b[0mresult\u001b[0m \u001b[0;34m=\u001b[0m \u001b[0mself\u001b[0m\u001b[0;34m.\u001b[0m\u001b[0mtransform\u001b[0m\u001b[0;34m(\u001b[0m\u001b[0mresult\u001b[0m\u001b[0;34m)\u001b[0m\u001b[0;34m\u001b[0m\u001b[0;34m\u001b[0m\u001b[0m\n\u001b[1;32m   8922\u001b[0m             \u001b[0;32mreturn\u001b[0m \u001b[0mresult\u001b[0m\u001b[0;34m\u001b[0m\u001b[0;34m\u001b[0m\u001b[0m\n",
      "\u001b[0;32m~/anaconda3/envs/quilt-env/lib/python3.10/site-packages/tifffile/tifffile.py\u001b[0m in \u001b[0;36m?\u001b[0;34m(self, key, series, level, squeeze, out, maxworkers)\u001b[0m\n\u001b[1;32m   3388\u001b[0m                 )\n\u001b[1;32m   3389\u001b[0m         \u001b[0;32melif\u001b[0m \u001b[0mlen\u001b[0m\u001b[0;34m(\u001b[0m\u001b[0mpages\u001b[0m\u001b[0;34m)\u001b[0m \u001b[0;34m==\u001b[0m \u001b[0;36m1\u001b[0m\u001b[0;34m:\u001b[0m\u001b[0;34m\u001b[0m\u001b[0;34m\u001b[0m\u001b[0m\n\u001b[1;32m   3390\u001b[0m             \u001b[0mresult\u001b[0m \u001b[0;34m=\u001b[0m \u001b[0mpages\u001b[0m\u001b[0;34m[\u001b[0m\u001b[0;36m0\u001b[0m\u001b[0;34m]\u001b[0m\u001b[0;34m.\u001b[0m\u001b[0masarray\u001b[0m\u001b[0;34m(\u001b[0m\u001b[0mout\u001b[0m\u001b[0;34m=\u001b[0m\u001b[0mout\u001b[0m\u001b[0;34m,\u001b[0m \u001b[0mmaxworkers\u001b[0m\u001b[0;34m=\u001b[0m\u001b[0mmaxworkers\u001b[0m\u001b[0;34m)\u001b[0m\u001b[0;34m\u001b[0m\u001b[0;34m\u001b[0m\u001b[0m\n\u001b[1;32m   3391\u001b[0m         \u001b[0;32melse\u001b[0m\u001b[0;34m:\u001b[0m\u001b[0;34m\u001b[0m\u001b[0;34m\u001b[0m\u001b[0m\n\u001b[0;32m-> 3392\u001b[0;31m             \u001b[0mresult\u001b[0m \u001b[0;34m=\u001b[0m \u001b[0mstack_pages\u001b[0m\u001b[0;34m(\u001b[0m\u001b[0mpages\u001b[0m\u001b[0;34m,\u001b[0m \u001b[0mout\u001b[0m\u001b[0;34m=\u001b[0m\u001b[0mout\u001b[0m\u001b[0;34m,\u001b[0m \u001b[0mmaxworkers\u001b[0m\u001b[0;34m=\u001b[0m\u001b[0mmaxworkers\u001b[0m\u001b[0;34m)\u001b[0m\u001b[0;34m\u001b[0m\u001b[0;34m\u001b[0m\u001b[0m\n\u001b[0m\u001b[1;32m   3393\u001b[0m \u001b[0;34m\u001b[0m\u001b[0m\n\u001b[1;32m   3394\u001b[0m         \u001b[0;32mif\u001b[0m \u001b[0mresult\u001b[0m \u001b[0;32mis\u001b[0m \u001b[0;32mNone\u001b[0m\u001b[0;34m:\u001b[0m\u001b[0;34m\u001b[0m\u001b[0;34m\u001b[0m\u001b[0m\n\u001b[1;32m   3395\u001b[0m             \u001b[0;32mreturn\u001b[0m \u001b[0;32mNone\u001b[0m\u001b[0;34m\u001b[0m\u001b[0;34m\u001b[0m\u001b[0m\n",
      "\u001b[0;32m~/anaconda3/envs/quilt-env/lib/python3.10/site-packages/tifffile/tifffile.py\u001b[0m in \u001b[0;36m?\u001b[0;34m(pages, out, maxworkers, **kwargs)\u001b[0m\n\u001b[1;32m  17292\u001b[0m             \u001b[0mfilecache\u001b[0m\u001b[0;34m.\u001b[0m\u001b[0mclose\u001b[0m\u001b[0;34m(\u001b[0m\u001b[0mpage\u001b[0m\u001b[0;34m.\u001b[0m\u001b[0mparent\u001b[0m\u001b[0;34m.\u001b[0m\u001b[0mfilehandle\u001b[0m\u001b[0;34m)\u001b[0m\u001b[0;34m\u001b[0m\u001b[0;34m\u001b[0m\u001b[0m\n\u001b[1;32m  17293\u001b[0m \u001b[0;34m\u001b[0m\u001b[0m\n\u001b[1;32m  17294\u001b[0m     \u001b[0;32mif\u001b[0m \u001b[0mmaxworkers\u001b[0m \u001b[0;34m<\u001b[0m \u001b[0;36m2\u001b[0m\u001b[0;34m:\u001b[0m\u001b[0;34m\u001b[0m\u001b[0;34m\u001b[0m\u001b[0m\n\u001b[1;32m  17295\u001b[0m         \u001b[0;32mfor\u001b[0m \u001b[0mi\u001b[0m\u001b[0;34m,\u001b[0m \u001b[0mpage\u001b[0m \u001b[0;32min\u001b[0m \u001b[0menumerate\u001b[0m\u001b[0;34m(\u001b[0m\u001b[0mpages\u001b[0m\u001b[0;34m)\u001b[0m\u001b[0;34m:\u001b[0m\u001b[0;34m\u001b[0m\u001b[0;34m\u001b[0m\u001b[0m\n\u001b[0;32m> 17296\u001b[0;31m             \u001b[0mfunc\u001b[0m\u001b[0;34m(\u001b[0m\u001b[0mpage\u001b[0m\u001b[0;34m,\u001b[0m \u001b[0mi\u001b[0m\u001b[0;34m)\u001b[0m\u001b[0;34m\u001b[0m\u001b[0;34m\u001b[0m\u001b[0m\n\u001b[0m\u001b[1;32m  17297\u001b[0m     \u001b[0;32melse\u001b[0m\u001b[0;34m:\u001b[0m\u001b[0;34m\u001b[0m\u001b[0;34m\u001b[0m\u001b[0m\n\u001b[1;32m  17298\u001b[0m         \u001b[0mpage0\u001b[0m\u001b[0;34m.\u001b[0m\u001b[0mdecode\u001b[0m  \u001b[0;31m# init TiffPage.decode function\u001b[0m\u001b[0;34m\u001b[0m\u001b[0;34m\u001b[0m\u001b[0m\n\u001b[1;32m  17299\u001b[0m         \u001b[0;32mwith\u001b[0m \u001b[0mThreadPoolExecutor\u001b[0m\u001b[0;34m(\u001b[0m\u001b[0mmaxworkers\u001b[0m\u001b[0;34m)\u001b[0m \u001b[0;32mas\u001b[0m \u001b[0mexecutor\u001b[0m\u001b[0;34m:\u001b[0m\u001b[0;34m\u001b[0m\u001b[0;34m\u001b[0m\u001b[0m\n",
      "\u001b[0;32m~/anaconda3/envs/quilt-env/lib/python3.10/site-packages/tifffile/tifffile.py\u001b[0m in \u001b[0;36m?\u001b[0;34m(page, index, out, filecache, kwargs)\u001b[0m\n\u001b[1;32m  17287\u001b[0m     \u001b[0;32mdef\u001b[0m \u001b[0mfunc\u001b[0m\u001b[0;34m(\u001b[0m\u001b[0mpage\u001b[0m\u001b[0;34m,\u001b[0m \u001b[0mindex\u001b[0m\u001b[0;34m,\u001b[0m \u001b[0mout\u001b[0m\u001b[0;34m=\u001b[0m\u001b[0mout\u001b[0m\u001b[0;34m,\u001b[0m \u001b[0mfilecache\u001b[0m\u001b[0;34m=\u001b[0m\u001b[0mfilecache\u001b[0m\u001b[0;34m,\u001b[0m \u001b[0mkwargs\u001b[0m\u001b[0;34m=\u001b[0m\u001b[0mkwargs\u001b[0m\u001b[0;34m)\u001b[0m\u001b[0;34m:\u001b[0m\u001b[0;34m\u001b[0m\u001b[0;34m\u001b[0m\u001b[0m\n\u001b[1;32m  17288\u001b[0m         \u001b[0;31m# read, decode, and copy page data\u001b[0m\u001b[0;34m\u001b[0m\u001b[0;34m\u001b[0m\u001b[0m\n\u001b[1;32m  17289\u001b[0m         \u001b[0;32mif\u001b[0m \u001b[0mpage\u001b[0m \u001b[0;32mis\u001b[0m \u001b[0;32mnot\u001b[0m \u001b[0;32mNone\u001b[0m\u001b[0;34m:\u001b[0m\u001b[0;34m\u001b[0m\u001b[0;34m\u001b[0m\u001b[0m\n\u001b[1;32m  17290\u001b[0m             \u001b[0mfilecache\u001b[0m\u001b[0;34m.\u001b[0m\u001b[0mopen\u001b[0m\u001b[0;34m(\u001b[0m\u001b[0mpage\u001b[0m\u001b[0;34m.\u001b[0m\u001b[0mparent\u001b[0m\u001b[0;34m.\u001b[0m\u001b[0mfilehandle\u001b[0m\u001b[0;34m)\u001b[0m\u001b[0;34m\u001b[0m\u001b[0;34m\u001b[0m\u001b[0m\n\u001b[0;32m> 17291\u001b[0;31m             \u001b[0mpage\u001b[0m\u001b[0;34m.\u001b[0m\u001b[0masarray\u001b[0m\u001b[0;34m(\u001b[0m\u001b[0mlock\u001b[0m\u001b[0;34m=\u001b[0m\u001b[0mfilecache\u001b[0m\u001b[0;34m.\u001b[0m\u001b[0mlock\u001b[0m\u001b[0;34m,\u001b[0m \u001b[0mout\u001b[0m\u001b[0;34m=\u001b[0m\u001b[0mout\u001b[0m\u001b[0;34m[\u001b[0m\u001b[0mindex\u001b[0m\u001b[0;34m]\u001b[0m\u001b[0;34m,\u001b[0m \u001b[0;34m**\u001b[0m\u001b[0mkwargs\u001b[0m\u001b[0;34m)\u001b[0m\u001b[0;34m\u001b[0m\u001b[0;34m\u001b[0m\u001b[0m\n\u001b[0m\u001b[1;32m  17292\u001b[0m             \u001b[0mfilecache\u001b[0m\u001b[0;34m.\u001b[0m\u001b[0mclose\u001b[0m\u001b[0;34m(\u001b[0m\u001b[0mpage\u001b[0m\u001b[0;34m.\u001b[0m\u001b[0mparent\u001b[0m\u001b[0;34m.\u001b[0m\u001b[0mfilehandle\u001b[0m\u001b[0;34m)\u001b[0m\u001b[0;34m\u001b[0m\u001b[0;34m\u001b[0m\u001b[0m\n",
      "\u001b[0;32m~/anaconda3/envs/quilt-env/lib/python3.10/site-packages/tifffile/tifffile.py\u001b[0m in \u001b[0;36m?\u001b[0;34m(self, out, squeeze, lock, maxworkers)\u001b[0m\n\u001b[1;32m   6876\u001b[0m                 ] = segment\n\u001b[1;32m   6877\u001b[0m                 \u001b[0;31m# except IndexError:\u001b[0m\u001b[0;34m\u001b[0m\u001b[0;34m\u001b[0m\u001b[0m\n\u001b[1;32m   6878\u001b[0m                 \u001b[0;31m#     pass  # corrupted file e.g. with too many strips\u001b[0m\u001b[0;34m\u001b[0m\u001b[0;34m\u001b[0m\u001b[0m\n\u001b[1;32m   6879\u001b[0m \u001b[0;34m\u001b[0m\u001b[0m\n\u001b[0;32m-> 6880\u001b[0;31m             for _ in self.segments(\n\u001b[0m\u001b[1;32m   6881\u001b[0m                 \u001b[0mfunc\u001b[0m\u001b[0;34m=\u001b[0m\u001b[0mfunc\u001b[0m\u001b[0;34m,\u001b[0m\u001b[0;34m\u001b[0m\u001b[0;34m\u001b[0m\u001b[0m\n\u001b[1;32m   6882\u001b[0m                 \u001b[0mlock\u001b[0m\u001b[0;34m=\u001b[0m\u001b[0mlock\u001b[0m\u001b[0;34m,\u001b[0m\u001b[0;34m\u001b[0m\u001b[0;34m\u001b[0m\u001b[0m\n\u001b[1;32m   6883\u001b[0m                 \u001b[0mmaxworkers\u001b[0m\u001b[0;34m=\u001b[0m\u001b[0mmaxworkers\u001b[0m\u001b[0;34m,\u001b[0m\u001b[0;34m\u001b[0m\u001b[0;34m\u001b[0m\u001b[0m\n",
      "\u001b[0;32m~/anaconda3/envs/quilt-env/lib/python3.10/site-packages/tifffile/tifffile.py\u001b[0m in \u001b[0;36m?\u001b[0;34m(self, lock, maxworkers, func, sort, _fullsize)\u001b[0m\n\u001b[1;32m   6721\u001b[0m                 \u001b[0mlock\u001b[0m\u001b[0;34m=\u001b[0m\u001b[0mlock\u001b[0m\u001b[0;34m,\u001b[0m\u001b[0;34m\u001b[0m\u001b[0;34m\u001b[0m\u001b[0m\n\u001b[1;32m   6722\u001b[0m                 \u001b[0msort\u001b[0m\u001b[0;34m=\u001b[0m\u001b[0msort\u001b[0m\u001b[0;34m,\u001b[0m\u001b[0;34m\u001b[0m\u001b[0;34m\u001b[0m\u001b[0m\n\u001b[1;32m   6723\u001b[0m                 \u001b[0mflat\u001b[0m\u001b[0;34m=\u001b[0m\u001b[0;32mTrue\u001b[0m\u001b[0;34m,\u001b[0m\u001b[0;34m\u001b[0m\u001b[0;34m\u001b[0m\u001b[0m\n\u001b[1;32m   6724\u001b[0m             ):\n\u001b[0;32m-> 6725\u001b[0;31m                 \u001b[0;32myield\u001b[0m \u001b[0mdecode\u001b[0m\u001b[0;34m(\u001b[0m\u001b[0msegment\u001b[0m\u001b[0;34m)\u001b[0m\u001b[0;34m\u001b[0m\u001b[0;34m\u001b[0m\u001b[0m\n\u001b[0m\u001b[1;32m   6726\u001b[0m         \u001b[0;32melse\u001b[0m\u001b[0;34m:\u001b[0m\u001b[0;34m\u001b[0m\u001b[0;34m\u001b[0m\u001b[0m\n\u001b[1;32m   6727\u001b[0m             \u001b[0;31m# reduce memory overhead by processing chunks of up to\u001b[0m\u001b[0;34m\u001b[0m\u001b[0;34m\u001b[0m\u001b[0m\n\u001b[1;32m   6728\u001b[0m             \u001b[0;31m# ~64 MB of segments because ThreadPoolExecutor.map is not\u001b[0m\u001b[0;34m\u001b[0m\u001b[0;34m\u001b[0m\u001b[0m\n",
      "\u001b[0;32m~/anaconda3/envs/quilt-env/lib/python3.10/site-packages/tifffile/tifffile.py\u001b[0m in \u001b[0;36m?\u001b[0;34m(args, decodeargs, keyframe, func)\u001b[0m\n\u001b[1;32m   6710\u001b[0m             def decode(  # type: ignore\n\u001b[1;32m   6711\u001b[0m                 \u001b[0margs\u001b[0m\u001b[0;34m,\u001b[0m \u001b[0mdecodeargs\u001b[0m\u001b[0;34m=\u001b[0m\u001b[0mdecodeargs\u001b[0m\u001b[0;34m,\u001b[0m \u001b[0mkeyframe\u001b[0m\u001b[0;34m=\u001b[0m\u001b[0mkeyframe\u001b[0m\u001b[0;34m,\u001b[0m \u001b[0mfunc\u001b[0m\u001b[0;34m=\u001b[0m\u001b[0mfunc\u001b[0m\u001b[0;34m\u001b[0m\u001b[0;34m\u001b[0m\u001b[0m\n\u001b[1;32m   6712\u001b[0m             ):\n\u001b[0;32m-> 6713\u001b[0;31m                 \u001b[0;32mreturn\u001b[0m \u001b[0mfunc\u001b[0m\u001b[0;34m(\u001b[0m\u001b[0mkeyframe\u001b[0m\u001b[0;34m.\u001b[0m\u001b[0mdecode\u001b[0m\u001b[0;34m(\u001b[0m\u001b[0;34m*\u001b[0m\u001b[0margs\u001b[0m\u001b[0;34m,\u001b[0m \u001b[0;34m**\u001b[0m\u001b[0mdecodeargs\u001b[0m\u001b[0;34m)\u001b[0m\u001b[0;34m)\u001b[0m\u001b[0;34m\u001b[0m\u001b[0;34m\u001b[0m\u001b[0m\n\u001b[0m",
      "\u001b[0;32m~/anaconda3/envs/quilt-env/lib/python3.10/site-packages/tifffile/tifffile.py\u001b[0m in \u001b[0;36m?\u001b[0;34m(data, segmentindex, jpegtables, _fullsize)\u001b[0m\n\u001b[1;32m   6668\u001b[0m                 \u001b[0;31m# TODO: calculate correct size for packed integers\u001b[0m\u001b[0;34m\u001b[0m\u001b[0;34m\u001b[0m\u001b[0m\n\u001b[1;32m   6669\u001b[0m                 \u001b[0msize\u001b[0m \u001b[0;34m=\u001b[0m \u001b[0mshape\u001b[0m\u001b[0;34m[\u001b[0m\u001b[0;36m0\u001b[0m\u001b[0;34m]\u001b[0m \u001b[0;34m*\u001b[0m \u001b[0mshape\u001b[0m\u001b[0;34m[\u001b[0m\u001b[0;36m1\u001b[0m\u001b[0;34m]\u001b[0m \u001b[0;34m*\u001b[0m \u001b[0mshape\u001b[0m\u001b[0;34m[\u001b[0m\u001b[0;36m2\u001b[0m\u001b[0;34m]\u001b[0m \u001b[0;34m*\u001b[0m \u001b[0mshape\u001b[0m\u001b[0;34m[\u001b[0m\u001b[0;36m3\u001b[0m\u001b[0;34m]\u001b[0m\u001b[0;34m\u001b[0m\u001b[0;34m\u001b[0m\u001b[0m\n\u001b[1;32m   6670\u001b[0m                 \u001b[0mdata\u001b[0m \u001b[0;34m=\u001b[0m \u001b[0mdecompress\u001b[0m\u001b[0;34m(\u001b[0m\u001b[0mdata\u001b[0m\u001b[0;34m,\u001b[0m \u001b[0mout\u001b[0m\u001b[0;34m=\u001b[0m\u001b[0msize\u001b[0m \u001b[0;34m*\u001b[0m \u001b[0mdtype\u001b[0m\u001b[0;34m.\u001b[0m\u001b[0mitemsize\u001b[0m\u001b[0;34m)\u001b[0m\u001b[0;34m\u001b[0m\u001b[0;34m\u001b[0m\u001b[0m\n\u001b[1;32m   6671\u001b[0m             \u001b[0mdata\u001b[0m \u001b[0;34m=\u001b[0m \u001b[0munpack\u001b[0m\u001b[0;34m(\u001b[0m\u001b[0mdata\u001b[0m\u001b[0;34m)\u001b[0m\u001b[0;34m\u001b[0m\u001b[0;34m\u001b[0m\u001b[0m\n\u001b[0;32m-> 6672\u001b[0;31m             \u001b[0mdata\u001b[0m \u001b[0;34m=\u001b[0m \u001b[0mreshape\u001b[0m\u001b[0;34m(\u001b[0m\u001b[0mdata\u001b[0m\u001b[0;34m,\u001b[0m \u001b[0mindex\u001b[0m\u001b[0;34m,\u001b[0m \u001b[0mshape\u001b[0m\u001b[0;34m)\u001b[0m\u001b[0;34m\u001b[0m\u001b[0;34m\u001b[0m\u001b[0m\n\u001b[0m\u001b[1;32m   6673\u001b[0m             \u001b[0mdata\u001b[0m \u001b[0;34m=\u001b[0m \u001b[0mdata\u001b[0m\u001b[0;34m.\u001b[0m\u001b[0mastype\u001b[0m\u001b[0;34m(\u001b[0m\u001b[0;34m'='\u001b[0m \u001b[0;34m+\u001b[0m \u001b[0mdtype\u001b[0m\u001b[0;34m.\u001b[0m\u001b[0mchar\u001b[0m\u001b[0;34m,\u001b[0m \u001b[0mcopy\u001b[0m\u001b[0;34m=\u001b[0m\u001b[0;32mFalse\u001b[0m\u001b[0;34m)\u001b[0m\u001b[0;34m\u001b[0m\u001b[0;34m\u001b[0m\u001b[0m\n\u001b[1;32m   6674\u001b[0m             \u001b[0;32mif\u001b[0m \u001b[0munpredict\u001b[0m \u001b[0;32mis\u001b[0m \u001b[0;32mnot\u001b[0m \u001b[0;32mNone\u001b[0m\u001b[0;34m:\u001b[0m\u001b[0;34m\u001b[0m\u001b[0;34m\u001b[0m\u001b[0m\n\u001b[1;32m   6675\u001b[0m                 \u001b[0;31m# unpredict is faster with native byte order\u001b[0m\u001b[0;34m\u001b[0m\u001b[0;34m\u001b[0m\u001b[0m\n",
      "\u001b[0;32m~/anaconda3/envs/quilt-env/lib/python3.10/site-packages/tifffile/tifffile.py\u001b[0m in \u001b[0;36m?\u001b[0;34m(data, indices, shape)\u001b[0m\n\u001b[1;32m   6491\u001b[0m                     \u001b[0mdata\u001b[0m\u001b[0;34m.\u001b[0m\u001b[0mshape\u001b[0m \u001b[0;34m=\u001b[0m \u001b[0mshape\u001b[0m\u001b[0;34m\u001b[0m\u001b[0;34m\u001b[0m\u001b[0m\n\u001b[1;32m   6492\u001b[0m                     \u001b[0;32mreturn\u001b[0m \u001b[0mdata\u001b[0m\u001b[0;34m\u001b[0m\u001b[0;34m\u001b[0m\u001b[0m\n\u001b[1;32m   6493\u001b[0m                 \u001b[0;32mexcept\u001b[0m \u001b[0mValueError\u001b[0m\u001b[0;34m:\u001b[0m\u001b[0;34m\u001b[0m\u001b[0;34m\u001b[0m\u001b[0m\n\u001b[1;32m   6494\u001b[0m                     \u001b[0;32mpass\u001b[0m\u001b[0;34m\u001b[0m\u001b[0;34m\u001b[0m\u001b[0m\n\u001b[0;32m-> 6495\u001b[0;31m                 raise TiffFileError(\n\u001b[0m\u001b[1;32m   6496\u001b[0m                     \u001b[0;34m'corrupted strip cannot be reshaped from '\u001b[0m\u001b[0;34m\u001b[0m\u001b[0;34m\u001b[0m\u001b[0m\n\u001b[1;32m   6497\u001b[0m                     \u001b[0;34mf'{datashape} to {shape}'\u001b[0m\u001b[0;34m\u001b[0m\u001b[0;34m\u001b[0m\u001b[0m\n\u001b[1;32m   6498\u001b[0m                 )\n",
      "\u001b[0;31mTiffFileError\u001b[0m: corrupted strip cannot be reshaped from (912,) to (1, 1, 924, 1)"
     ]
    }
   ],
   "source": [
    "# 在下载一个间期的Lamin B1\n",
    "import pandas as pd\n",
    "import quilt3 as q3\n",
    "from pathlib import Path\n",
    "from aicsimageio import AICSImage\n",
    "from tifffile import imwrite\n",
    "\n",
    "output_dir = Path(img_save_path)\n",
    "output_dir.mkdir(parents=True, exist_ok=True)\n",
    "\n",
    "# 加载 metadata\n",
    "df = pd.read_csv(metadata_save_name)\n",
    "df_unique = df.drop_duplicates(subset=\"fov_path\")\n",
    "\n",
    "# quilt 包\n",
    "pkg = q3.Package.browse(\"aics/hipsc_single_cell_image_dataset\", registry=\"s3://allencell\")\n",
    "# 下载并读取 fov 图像\n",
    "fov_path = \"fov_path/c6e4652401c17c7261129771e35fd5c7dfea510fc5f2e11fc53d55c0ca9aa6a2_3500000876_100X_20170508_3-Scene-07-P27-E06.ome.tiff\"\n",
    "local_fov = output_dir / \"temp_fov.ome.tiff\"\n",
    "if not local_fov.exists():\n",
    "    pkg[fov_path].fetch(local_fov)\n",
    "img = AICSImage(local_fov)\n",
    "ch_idx = 3\n",
    "raw = img.get_image_data(\"ZYX\", C=ch_idx)\n",
    "\n",
    "# 下载并读取 seg 图像\n",
    "seg_path = \"struct_seg_path/48d8a51baa42ec1026965c4caef0e2fb5fd0cf6293be816826315d34fba949c3_3500000876_100X_20170508_3-Scene-07-P27-E06_struct_segmentation.tiff\"\n",
    "local_seg = output_dir / \"temp_seg.ome.tiff\"\n",
    "if not local_seg.exists():\n",
    "    pkg[seg_path].fetch(local_seg)\n",
    "seg = AICSImage(local_seg).get_image_data(\"ZYX\")\n",
    "\n",
    "# 保存输出\n",
    "raw_out = output_dir / \"LMNB1_M0_raw.tif\"\n",
    "seg_out = output_dir / \"LMNB1_M0_seg.tif\"\n",
    "imwrite(raw_out, raw)\n",
    "imwrite(seg_out, seg)\n",
    "print(f\"✅ 成功保存: {raw_out} 和 {seg_out}\")\n",
    "\n",
    "# 删除临时文件\n",
    "local_fov.unlink(missing_ok=True)\n",
    "local_seg.unlink(missing_ok=True)\n"
   ]
  }
 ],
 "metadata": {
  "kernelspec": {
   "display_name": "quilt-env",
   "language": "python",
   "name": "python3"
  },
  "language_info": {
   "codemirror_mode": {
    "name": "ipython",
    "version": 3
   },
   "file_extension": ".py",
   "mimetype": "text/x-python",
   "name": "python",
   "nbconvert_exporter": "python",
   "pygments_lexer": "ipython3",
   "version": "3.10.18"
  }
 },
 "nbformat": 4,
 "nbformat_minor": 5
}
